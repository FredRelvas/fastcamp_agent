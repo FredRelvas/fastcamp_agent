{
  "nbformat": 4,
  "nbformat_minor": 0,
  "metadata": {
    "colab": {
      "provenance": []
    },
    "kernelspec": {
      "name": "python3",
      "display_name": "Python 3"
    },
    "language_info": {
      "name": "python"
    }
  },
  "cells": [
    {
      "cell_type": "code",
      "source": [
        "%pip install groq # Instalando o groq"
      ],
      "metadata": {
        "colab": {
          "base_uri": "https://localhost:8080/"
        },
        "id": "_Auz5Fh6XaHO",
        "outputId": "e92e9aad-bf4f-4e28-d494-c1b667127471"
      },
      "execution_count": null,
      "outputs": [
        {
          "output_type": "stream",
          "name": "stdout",
          "text": [
            "Collecting groq\n",
            "  Downloading groq-0.18.0-py3-none-any.whl.metadata (14 kB)\n",
            "Requirement already satisfied: anyio<5,>=3.5.0 in /usr/local/lib/python3.11/dist-packages (from groq) (3.7.1)\n",
            "Requirement already satisfied: distro<2,>=1.7.0 in /usr/local/lib/python3.11/dist-packages (from groq) (1.9.0)\n",
            "Requirement already satisfied: httpx<1,>=0.23.0 in /usr/local/lib/python3.11/dist-packages (from groq) (0.28.1)\n",
            "Requirement already satisfied: pydantic<3,>=1.9.0 in /usr/local/lib/python3.11/dist-packages (from groq) (2.10.6)\n",
            "Requirement already satisfied: sniffio in /usr/local/lib/python3.11/dist-packages (from groq) (1.3.1)\n",
            "Requirement already satisfied: typing-extensions<5,>=4.10 in /usr/local/lib/python3.11/dist-packages (from groq) (4.12.2)\n",
            "Requirement already satisfied: idna>=2.8 in /usr/local/lib/python3.11/dist-packages (from anyio<5,>=3.5.0->groq) (3.10)\n",
            "Requirement already satisfied: certifi in /usr/local/lib/python3.11/dist-packages (from httpx<1,>=0.23.0->groq) (2025.1.31)\n",
            "Requirement already satisfied: httpcore==1.* in /usr/local/lib/python3.11/dist-packages (from httpx<1,>=0.23.0->groq) (1.0.7)\n",
            "Requirement already satisfied: h11<0.15,>=0.13 in /usr/local/lib/python3.11/dist-packages (from httpcore==1.*->httpx<1,>=0.23.0->groq) (0.14.0)\n",
            "Requirement already satisfied: annotated-types>=0.6.0 in /usr/local/lib/python3.11/dist-packages (from pydantic<3,>=1.9.0->groq) (0.7.0)\n",
            "Requirement already satisfied: pydantic-core==2.27.2 in /usr/local/lib/python3.11/dist-packages (from pydantic<3,>=1.9.0->groq) (2.27.2)\n",
            "Downloading groq-0.18.0-py3-none-any.whl (121 kB)\n",
            "\u001b[2K   \u001b[90m━━━━━━━━━━━━━━━━━━━━━━━━━━━━━━━━━━━━━━━━\u001b[0m \u001b[32m121.9/121.9 kB\u001b[0m \u001b[31m2.9 MB/s\u001b[0m eta \u001b[36m0:00:00\u001b[0m\n",
            "\u001b[?25hInstalling collected packages: groq\n",
            "Successfully installed groq-0.18.0\n"
          ]
        }
      ]
    },
    {
      "cell_type": "code",
      "execution_count": null,
      "metadata": {
        "id": "B-OcJ8tiNQYP"
      },
      "outputs": [],
      "source": [
        "import os\n",
        "\n",
        "os.environ['GROQ_API_KEY'] = \"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\" # Utilizando a chave da API que peguei no Groq"
      ]
    },
    {
      "cell_type": "code",
      "source": [
        "import os\n",
        "from groq import Groq # Importa a classe que nos permite interagir com a API do Groq\n",
        "\n",
        "client = Groq(\n",
        "    api_key=os.environ.get(\"GROQ_API_KEY\"),\n",
        ") # Inicializando o Groq e passando a minha chave ali de cima\n",
        "\n",
        "chat_completion = client.chat.completions.create(\n",
        "    messages=[\n",
        "        {\n",
        "            \"role\": \"user\",\n",
        "            \"content\": \"Explain the importance of fast language models\", # Passando as mensagens para o nosso modelo\n",
        "        }\n",
        "    ],\n",
        "    model=\"llama3-70b-8192\", # Definindo que modelo vamos utilizar\n",
        ")\n",
        "\n",
        "print(chat_completion.choices[0].message.content) # Aqui printamos a resposta que o modelo vai dar para o nosso prompt/mensagem que passamos para ele ali em cima"
      ],
      "metadata": {
        "colab": {
          "base_uri": "https://localhost:8080/"
        },
        "id": "6eruEGJ8XmQu",
        "outputId": "a877c60b-e901-4c86-feec-c7ff1c432945"
      },
      "execution_count": null,
      "outputs": [
        {
          "output_type": "stream",
          "name": "stdout",
          "text": [
            "Fast language models are crucial for various reasons:\n",
            "\n",
            "1. **Real-time Applications**: Fast language models enable real-time applications, such as chatbots, voice assistants, and language translation systems, to respond quickly and efficiently. This enhances user experience and facilitates smoother interactions.\n",
            "2. **Scalability**: Fast language models can handle large volumes of data and process requests quickly, making them scalable for large-scale applications. This is particularly important for industries like customer service, where rapid response times are critical.\n",
            "3. **Low Latency**: Fast language models reduce latency, which is essential for applications that require immediate responses, such as language translation, sentiment analysis, and text summarization.\n",
            "4. **Improved User Experience**: Fast language models enable users to receive instant feedback, improving their overall experience. For instance, in language translation, fast models can provide instant translations, facilitating communication across language barriers.\n",
            "5. **Competitive Advantage**: Fast language models can provide a competitive advantage in industries where speed and efficiency are critical, such as customer service, e-commerce, and finance.\n",
            "6. **Edge Computing**: Fast language models are essential for edge computing, where processing power and data storage are limited. Edge computing enables devices to process data in real-time, reducing latency and improving performance.\n",
            "7. **Resource Efficiency**: Fast language models can reduce computational resources, energy consumption, and memory usage, making them more efficient and cost-effective.\n",
            "8. **Real-time Analytics**: Fast language models enable real-time analytics, which is critical for applications like sentiment analysis, trend detection, and anomaly detection.\n",
            "9. **Enhanced Accessibility**: Fast language models can improve accessibility for people with disabilities, such as those who rely on speech-to-text systems or language translation tools.\n",
            "10. **Advancements in AI Research**: Fast language models can accelerate research in artificial intelligence, enabling scientists to explore new ideas, experiment with different models, and iterate quickly.\n",
            "11. **Reduced Carbon Footprint**: Fast language models can help reduce the carbon footprint of AI systems, which is essential for environmentally sustainable AI development.\n",
            "12. **Improved Accuracy**: Fast language models can lead to improved accuracy, as they can process more data in less time, enabling the development of more accurate models.\n",
            "13. **Faster Deployment**: Fast language models enable faster deployment of AI systems, which is critical for applications like crisis response, disaster relief, and healthcare.\n",
            "14. **Enhanced Personalization**: Fast language models can enable more personalized experiences, as they can process user data quickly and provide tailored recommendations.\n",
            "15. **Advancements in Natural Language Processing**: Fast language models can drive advancements in natural language processing, enabling the development of more sophisticated AI applications.\n",
            "\n",
            "In summary, fast language models are essential for various applications, including real-time interactions, scalability, low latency, improved user experience, competitive advantage, and resource efficiency. They also enable advancements in AI research, accessibility, and sustainability, while improving accuracy, deployment speed, and personalization.\n"
          ]
        }
      ]
    },
    {
      "cell_type": "code",
      "source": [
        "class Agent:\n",
        "  def __init__(self, client, system):\n",
        "    self.client =  client # Inicializando o cliente\n",
        "    self.system = system # Inicializando a mensagem do sistema para o modelo entender como ele deve trabalhar em loop\n",
        "    self.messages = [] # Lista de mensagens que vamos passar\n",
        "    if self.system is not None: # Se a mensagem não for vazia nos vamos adiciona-la na nossa lista\n",
        "      self.messages.append({\"role\":\"system\", \"content\": self.system})\n",
        "\n",
        "  def __call__(self, message=\"\"):\n",
        "      if message: # Vai ser ativado sempre que o nosso agente for chamado\n",
        "        self.messages.append({\"role\":\"user\", \"content\": message}) # Se receber uma mensagem vai adiciona-la na lista\n",
        "      result = self.execute() # Depois de receber a mensagem vamos executar o agente com todas as mensagens da nossa lista\n",
        "      self.messages.append({\"role\":\"assistant\", \"content\": result}) # Depois vai adicionar o resultado na nossa lista\n",
        "      return result # E por fim retornar o resultado para gente\n",
        "\n",
        "  def execute(self): # Método de execução que usamos no método anterior após recebermos a mensagem\n",
        "      completion = client.chat.completions.create(\n",
        "          messages= self.messages ,\n",
        "          model=\"llama3-70b-8192\", # Definindo que modelo vamos utilizar\n",
        "      )\n",
        "      return completion.choices[0].message.content"
      ],
      "metadata": {
        "collapsed": true,
        "id": "hRje8GO1Z0zI"
      },
      "execution_count": null,
      "outputs": []
    },
    {
      "cell_type": "code",
      "source": [
        "system_prompt  = \"\"\"\n",
        "You run in a loop of Thought, Action, PAUSE, Observation.\n",
        "At the end of the loop you output an Answer\n",
        "Use Thought to describe your thoughts about the question you have been asked.\n",
        "Use Action to run one of the actions available to you - then return PAUSE.\n",
        "Observation will be the result of running those actions.\n",
        "\n",
        "Your available actions are:\n",
        "\n",
        "calculate:\n",
        "e.g. calculate: 4 * 7 / 3\n",
        "Runs a calculation and returns the number - uses Python so be sure to use floating point syntax if necessary\n",
        "\n",
        "get_planet_mass:\n",
        "e.g. get_planet_mass: Earth\n",
        "returns weight of the planet in kg\n",
        "\n",
        "Example session:\n",
        "\n",
        "Question: What is the mass of Earth times 2?\n",
        "Thought: I need to find the mass of Earth\n",
        "Action: get_planet_mass: Earth\n",
        "PAUSE\n",
        "\n",
        "You will be called again with this:\n",
        "\n",
        "Observation: 5.9736e+24\n",
        "\n",
        "Thought: I need to multiply this by 2\n",
        "Action: calculate: 5.9736e+24 * 2\n",
        "PAUSE\n",
        "\n",
        "You will be called again with this:\n",
        "\n",
        "Observation: 1,1944e+25\n",
        "\n",
        "If you have the answer, output it as the Answer.\n",
        "\n",
        "Answer: The mass of the Earth times 2 is 1,1944x10e25\n",
        "\n",
        "Now it's your turn:\n",
        "\"\"\".strip()\n",
        "\n",
        "# Esse o prompt do sistema que vai fazer o agente entender como ele deve se comportar para seguir o loop"
      ],
      "metadata": {
        "id": "x0UPqOjqRsCx"
      },
      "execution_count": null,
      "outputs": []
    },
    {
      "cell_type": "code",
      "source": [
        "# Ferramentas\n",
        "def calculate(operation):\n",
        "  return eval(operation)\n",
        "\n",
        "def get_planet_mass(planet) -> float:\n",
        " match planet.lower():\n",
        "    case \"earth\":\n",
        "      return 5.9736e+24\n",
        "    case \"jupiter\":\n",
        "      return 1.898e27\n",
        "    case \"mars\":\n",
        "      return 6.39e23\n",
        "    case \"mercury\":\n",
        "      return 3.285e23\n",
        "    case \"neptune\":\n",
        "      return 1.024e26\n",
        "    case \"saturn\":\n",
        "      return 5.685e26\n",
        "    case \"uranus\":\n",
        "      return 8.683e25\n",
        "    case \"venus\":\n",
        "      return 4.868e24"
      ],
      "metadata": {
        "id": "I-VXGE8BTWlr"
      },
      "execution_count": null,
      "outputs": []
    },
    {
      "cell_type": "code",
      "source": [
        "neil_tyson = Agent(client, system_prompt) # Instância do nosso agente"
      ],
      "metadata": {
        "id": "9K9yuWy-VY4L"
      },
      "execution_count": null,
      "outputs": []
    },
    {
      "cell_type": "markdown",
      "source": [
        "**RODANDO O AGENTE MANUALMENTE NAS PRÓXIMAS CÉLULAS**\n"
      ],
      "metadata": {
        "id": "jIshjdCBKUDl"
      }
    },
    {
      "cell_type": "code",
      "source": [
        "result = neil_tyson(\"What is the mass of Earth times 5?\")\n",
        "print(result)"
      ],
      "metadata": {
        "colab": {
          "base_uri": "https://localhost:8080/"
        },
        "id": "MK3hBthkXvXP",
        "outputId": "2d5ab95b-4964-4856-dbc2-20f01f5383ac"
      },
      "execution_count": null,
      "outputs": [
        {
          "output_type": "stream",
          "name": "stdout",
          "text": [
            "Thought: I need to find the mass of Earth\n"
          ]
        }
      ]
    },
    {
      "cell_type": "code",
      "source": [
        "neil_tyson.messages"
      ],
      "metadata": {
        "colab": {
          "base_uri": "https://localhost:8080/"
        },
        "id": "VYKteLatYKoi",
        "outputId": "6c55d10a-34e4-479c-c959-e60d03d674fc"
      },
      "execution_count": null,
      "outputs": [
        {
          "output_type": "execute_result",
          "data": {
            "text/plain": [
              "[{'role': 'system',\n",
              "  'content': \"You run in a loop of Thought, Action, PAUSE, Observation.\\nAt the end of the loop you output an Answer\\nUse Thought to describe your thoughts about the question you have been asked.\\nUse Action to run one of the actions available to you - then return PAUSE.\\nObservation will be the result of running those actions.\\n\\nYour available actions are:\\n\\ncalculate:\\ne.g. calculate: 4 * 7 / 3\\nRuns a calculation and returns the number - uses Python so be sure to use floating point syntax if necessary\\n\\nget_planet_mass:\\ne.g. get_planet_mass: Earth\\nreturns weight of the planet in kg\\n\\nExample session:\\n\\nQuestion: What is the mass of Earth times 2?\\nThought: I need to find the mass of Earth\\nAction: get_planet_mass: Earth\\nPAUSE\\n\\nYou will be called again with this:\\n\\nObservation: 5.9736e+24\\n\\nThought: I need to multiply this by 2\\nAction: calculate: 5.9736e+24 * 2\\nPAUSE\\n\\nYou will be called again with this:\\n\\nObservation: 1,1944e+25\\n\\nIf you have the answer, output it as the Answer.\\n\\nAnswer: The mass of the Earth times 2 is 1,1944x10e25\\n\\nNow it's your turn:\"},\n",
              " {'role': 'user', 'content': 'What is the mass of Earth times 5?'},\n",
              " {'role': 'assistant', 'content': 'Thought: I need to find the mass of Earth'}]"
            ]
          },
          "metadata": {},
          "execution_count": 32
        }
      ]
    },
    {
      "cell_type": "code",
      "source": [
        "result = neil_tyson()\n",
        "print(result)"
      ],
      "metadata": {
        "colab": {
          "base_uri": "https://localhost:8080/"
        },
        "id": "ArDVtc_GYSXH",
        "outputId": "dfcd54f4-8d84-40e4-ab07-df321d6761c4"
      },
      "execution_count": null,
      "outputs": [
        {
          "output_type": "stream",
          "name": "stdout",
          "text": [
            "Action: get_planet_mass: Earth\n",
            "PAUSE\n"
          ]
        }
      ]
    },
    {
      "cell_type": "code",
      "source": [
        "observation = get_planet_mass(\"Earth\")\n",
        "print(observation)"
      ],
      "metadata": {
        "colab": {
          "base_uri": "https://localhost:8080/"
        },
        "id": "b5PPChhwaJA5",
        "outputId": "17883f30-cfea-4c2b-f5b2-30acc2e228bd"
      },
      "execution_count": null,
      "outputs": [
        {
          "output_type": "stream",
          "name": "stdout",
          "text": [
            "5.9736e+24\n"
          ]
        }
      ]
    },
    {
      "cell_type": "code",
      "source": [
        "next_prompt = f\"Observation:{observation}\"\n",
        "result = neil_tyson(next_prompt)\n",
        "print(result)"
      ],
      "metadata": {
        "colab": {
          "base_uri": "https://localhost:8080/"
        },
        "id": "MCCQVVZCaZWr",
        "outputId": "b0085266-bdeb-4062-82b5-bf57a759dfb8"
      },
      "execution_count": null,
      "outputs": [
        {
          "output_type": "stream",
          "name": "stdout",
          "text": [
            "Thought: I need to multiply this by 5\n"
          ]
        }
      ]
    },
    {
      "cell_type": "code",
      "source": [
        "neil_tyson.messages"
      ],
      "metadata": {
        "colab": {
          "base_uri": "https://localhost:8080/"
        },
        "id": "Y8yuCo2zarpd",
        "outputId": "71f3db75-3e3f-45c3-c5bc-1039fd98fc4f"
      },
      "execution_count": null,
      "outputs": [
        {
          "output_type": "execute_result",
          "data": {
            "text/plain": [
              "[{'role': 'system',\n",
              "  'content': \"You run in a loop of Thought, Action, PAUSE, Observation.\\nAt the end of the loop you output an Answer\\nUse Thought to describe your thoughts about the question you have been asked.\\nUse Action to run one of the actions available to you - then return PAUSE.\\nObservation will be the result of running those actions.\\n\\nYour available actions are:\\n\\ncalculate:\\ne.g. calculate: 4 * 7 / 3\\nRuns a calculation and returns the number - uses Python so be sure to use floating point syntax if necessary\\n\\nget_planet_mass:\\ne.g. get_planet_mass: Earth\\nreturns weight of the planet in kg\\n\\nExample session:\\n\\nQuestion: What is the mass of Earth times 2?\\nThought: I need to find the mass of Earth\\nAction: get_planet_mass: Earth\\nPAUSE\\n\\nYou will be called again with this:\\n\\nObservation: 5.9736e+24\\n\\nThought: I need to multiply this by 2\\nAction: calculate: 5.9736e+24 * 2\\nPAUSE\\n\\nYou will be called again with this:\\n\\nObservation: 1,1944e+25\\n\\nIf you have the answer, output it as the Answer.\\n\\nAnswer: The mass of the Earth times 2 is 1,1944x10e25\\n\\nNow it's your turn:\"},\n",
              " {'role': 'user', 'content': 'What is the mass of Earth times 5?'},\n",
              " {'role': 'assistant', 'content': 'Thought: I need to find the mass of Earth'},\n",
              " {'role': 'assistant', 'content': ''},\n",
              " {'role': 'assistant', 'content': 'Action: get_planet_mass: Earth\\nPAUSE'},\n",
              " {'role': 'user', 'content': 'Observation:5.9736e+24'},\n",
              " {'role': 'assistant', 'content': 'Thought: I need to multiply this by 5'}]"
            ]
          },
          "metadata": {},
          "execution_count": 37
        }
      ]
    },
    {
      "cell_type": "code",
      "source": [
        "result = neil_tyson()\n",
        "print(result)"
      ],
      "metadata": {
        "colab": {
          "base_uri": "https://localhost:8080/"
        },
        "id": "mpAXZQx4axT3",
        "outputId": "a4d86b7b-3c95-4f33-baba-a934624e3095"
      },
      "execution_count": null,
      "outputs": [
        {
          "output_type": "stream",
          "name": "stdout",
          "text": [
            "Action: calculate: 5.9736e+24 * 5\n",
            "PAUSE\n"
          ]
        }
      ]
    },
    {
      "cell_type": "code",
      "source": [
        "observation = calculate(\"5.9736e24 * 5\")\n",
        "print(observation)"
      ],
      "metadata": {
        "colab": {
          "base_uri": "https://localhost:8080/"
        },
        "id": "IJ3XU5xVa1eF",
        "outputId": "c15439ff-8284-4c04-f7fd-bdbfe948c9c9"
      },
      "execution_count": null,
      "outputs": [
        {
          "output_type": "stream",
          "name": "stdout",
          "text": [
            "2.9868e+25\n"
          ]
        }
      ]
    },
    {
      "cell_type": "code",
      "source": [
        "next_prompt = f\"Observation:{observation}\"\n",
        "result = neil_tyson(next_prompt)\n",
        "print(result)"
      ],
      "metadata": {
        "colab": {
          "base_uri": "https://localhost:8080/"
        },
        "id": "TuiWmrija-GJ",
        "outputId": "7af7e782-ccc9-464c-bc86-226288a535f5"
      },
      "execution_count": null,
      "outputs": [
        {
          "output_type": "stream",
          "name": "stdout",
          "text": [
            "Thought: I have the answer!\n",
            "\n",
            "Answer: The mass of the Earth times 5 is 2.9868x10e25\n"
          ]
        }
      ]
    },
    {
      "cell_type": "code",
      "source": [
        "neil_tyson.messages"
      ],
      "metadata": {
        "colab": {
          "base_uri": "https://localhost:8080/"
        },
        "id": "eyvH7zdHbCcz",
        "outputId": "0834db02-379b-4fc3-edf0-230d144e3760"
      },
      "execution_count": null,
      "outputs": [
        {
          "output_type": "execute_result",
          "data": {
            "text/plain": [
              "[{'role': 'system',\n",
              "  'content': \"You run in a loop of Thought, Action, PAUSE, Observation.\\nAt the end of the loop you output an Answer\\nUse Thought to describe your thoughts about the question you have been asked.\\nUse Action to run one of the actions available to you - then return PAUSE.\\nObservation will be the result of running those actions.\\n\\nYour available actions are:\\n\\ncalculate:\\ne.g. calculate: 4 * 7 / 3\\nRuns a calculation and returns the number - uses Python so be sure to use floating point syntax if necessary\\n\\nget_planet_mass:\\ne.g. get_planet_mass: Earth\\nreturns weight of the planet in kg\\n\\nExample session:\\n\\nQuestion: What is the mass of Earth times 2?\\nThought: I need to find the mass of Earth\\nAction: get_planet_mass: Earth\\nPAUSE\\n\\nYou will be called again with this:\\n\\nObservation: 5.9736e+24\\n\\nThought: I need to multiply this by 2\\nAction: calculate: 5.9736e+24 * 2\\nPAUSE\\n\\nYou will be called again with this:\\n\\nObservation: 1,1944e+25\\n\\nIf you have the answer, output it as the Answer.\\n\\nAnswer: The mass of the Earth times 2 is 1,1944x10e25\\n\\nNow it's your turn:\"},\n",
              " {'role': 'user', 'content': 'What is the mass of Earth times 5?'},\n",
              " {'role': 'assistant', 'content': 'Thought: I need to find the mass of Earth'},\n",
              " {'role': 'assistant', 'content': ''},\n",
              " {'role': 'assistant', 'content': 'Action: get_planet_mass: Earth\\nPAUSE'},\n",
              " {'role': 'user', 'content': 'Observation:5.9736e+24'},\n",
              " {'role': 'assistant', 'content': 'Thought: I need to multiply this by 5'},\n",
              " {'role': 'assistant', 'content': ''},\n",
              " {'role': 'assistant', 'content': 'Action: calculate: 5.9736e+24 * 5\\nPAUSE'},\n",
              " {'role': 'user', 'content': 'Observation:2.9868e+25'},\n",
              " {'role': 'assistant',\n",
              "  'content': 'Thought: I have the answer!\\n\\nAnswer: The mass of the Earth times 5 is 2.9868x10e25'}]"
            ]
          },
          "metadata": {},
          "execution_count": 42
        }
      ]
    },
    {
      "cell_type": "code",
      "source": [
        "import re # Criando o loop do agente\n",
        "\n",
        "def agent_loop(max_iterations, system, query):\n",
        "  agent = Agent(client, system_prompt) # Inicilizando o agente\n",
        "  tools = ['calculate', 'get_planet_mass'] # Inicilizando as ferramentas que temos\n",
        "  next_prompt = query # Definimos o primeiro prompt como pedido que vamos mandar para o loop do agente\n",
        "  i = 0\n",
        "  while i < max_iterations: # Iniciando o loop\n",
        "    i += 1\n",
        "    result = agent(next_prompt) # Chamando o agente\n",
        "    print(result) # Printando o resultado para análise\n",
        "\n",
        "    if \"PAUSE\" in result and \"Action\" in result: # Se o resultado tiver PAUSE e AÇÃO\n",
        "      action = re.findall(r\"Action: ([a-z_]+): (.+)\", result, re.IGNORECASE) # Nós encontramos o nome da ação e os parâmetros com essa linha de código\n",
        "      chosen_tool = action[0][0] # Organizando a ferramenta selecionada\n",
        "      arg = action[0][1] # Organizado o parâmetro encontrado\n",
        "\n",
        "      if chosen_tool in tools: # Se a ferramenta estiver entre as que nós temos\n",
        "        result_tool = eval(f\"{chosen_tool}('{arg}')\") # Usamos e ferramenta e temos o resultado dela\n",
        "        next_prompt = f\"Observation: {result_tool}\" # Que é analisado nessa observação\n",
        "\n",
        "      else:\n",
        "        next_prompt = \"Observation: Tool not found\" # Se não tivermos a ferramenta vamos dizer que não encontramos a ferramenta para que o sistema procure outra correta\n",
        "\n",
        "      print(next_prompt) # Printamos para sabermos o que está acontecendo\n",
        "      continue # Continua a fazer mais iterações\n",
        "\n",
        "    if \"Answer\" in result: # Se o agente tiver \"resposta\" no seu resultado nós paramos o loop\n",
        "      break\n"
      ],
      "metadata": {
        "id": "aSyJiCRgbK2s"
      },
      "execution_count": null,
      "outputs": []
    },
    {
      "cell_type": "code",
      "source": [
        "agent_loop(max_iterations=10, system=system_prompt, query=\"What is the mass of the Earth plus the mass of Mercury and all of it times 5?\") # Implementando o loop do agente criado"
      ],
      "metadata": {
        "colab": {
          "base_uri": "https://localhost:8080/"
        },
        "id": "6eEdEEo9gMvJ",
        "outputId": "c62f17c5-235e-413b-eeb3-a8490d77264f"
      },
      "execution_count": null,
      "outputs": [
        {
          "output_type": "stream",
          "name": "stdout",
          "text": [
            "Thought: I need to find the mass of Earth and Mercury.\n",
            "Action: get_planet_mass: Earth\n",
            "PAUSE\n",
            "Observation: 5.9736e+24\n",
            "Thought: Now I have the mass of Earth, I need to find the mass of Mercury.\n",
            "Action: get_planet_mass: Mercury\n",
            "PAUSE\n",
            "Observation: 3.285e+23\n",
            "Thought: Now I have the masses of both Earth and Mercury, I need to add them together.\n",
            "Action: calculate: 5.9736e+24 + 3.285e+23\n",
            "PAUSE\n",
            "Observation: 6.3021e+24\n",
            "Thought: Now I have the sum of the masses, I need to multiply it by 5.\n",
            "Action: calculate: 6.3021e+24 * 5\n",
            "PAUSE\n",
            "Observation: 3.15105e+25\n",
            "Thought: I have the final result!\n",
            "\n",
            "Answer: The mass of the Earth plus the mass of Mercury and all of it times 5 is 3.15105e+25.\n"
          ]
        }
      ]
    }
  ]
}