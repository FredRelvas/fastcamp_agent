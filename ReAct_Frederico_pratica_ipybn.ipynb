{
  "nbformat": 4,
  "nbformat_minor": 0,
  "metadata": {
    "colab": {
      "provenance": []
    },
    "kernelspec": {
      "name": "python3",
      "display_name": "Python 3"
    },
    "language_info": {
      "name": "python"
    }
  },
  "cells": [
    {
      "cell_type": "code",
      "execution_count": 1,
      "metadata": {
        "colab": {
          "base_uri": "https://localhost:8080/"
        },
        "id": "FjDJo9hyA5kA",
        "outputId": "98556489-b61e-4b39-cf4b-76ece5f8f612"
      },
      "outputs": [
        {
          "output_type": "stream",
          "name": "stdout",
          "text": [
            "Collecting groq\n",
            "  Downloading groq-0.18.0-py3-none-any.whl.metadata (14 kB)\n",
            "Requirement already satisfied: anyio<5,>=3.5.0 in /usr/local/lib/python3.11/dist-packages (from groq) (3.7.1)\n",
            "Requirement already satisfied: distro<2,>=1.7.0 in /usr/local/lib/python3.11/dist-packages (from groq) (1.9.0)\n",
            "Requirement already satisfied: httpx<1,>=0.23.0 in /usr/local/lib/python3.11/dist-packages (from groq) (0.28.1)\n",
            "Requirement already satisfied: pydantic<3,>=1.9.0 in /usr/local/lib/python3.11/dist-packages (from groq) (2.10.6)\n",
            "Requirement already satisfied: sniffio in /usr/local/lib/python3.11/dist-packages (from groq) (1.3.1)\n",
            "Requirement already satisfied: typing-extensions<5,>=4.10 in /usr/local/lib/python3.11/dist-packages (from groq) (4.12.2)\n",
            "Requirement already satisfied: idna>=2.8 in /usr/local/lib/python3.11/dist-packages (from anyio<5,>=3.5.0->groq) (3.10)\n",
            "Requirement already satisfied: certifi in /usr/local/lib/python3.11/dist-packages (from httpx<1,>=0.23.0->groq) (2025.1.31)\n",
            "Requirement already satisfied: httpcore==1.* in /usr/local/lib/python3.11/dist-packages (from httpx<1,>=0.23.0->groq) (1.0.7)\n",
            "Requirement already satisfied: h11<0.15,>=0.13 in /usr/local/lib/python3.11/dist-packages (from httpcore==1.*->httpx<1,>=0.23.0->groq) (0.14.0)\n",
            "Requirement already satisfied: annotated-types>=0.6.0 in /usr/local/lib/python3.11/dist-packages (from pydantic<3,>=1.9.0->groq) (0.7.0)\n",
            "Requirement already satisfied: pydantic-core==2.27.2 in /usr/local/lib/python3.11/dist-packages (from pydantic<3,>=1.9.0->groq) (2.27.2)\n",
            "Downloading groq-0.18.0-py3-none-any.whl (121 kB)\n",
            "\u001b[2K   \u001b[90m━━━━━━━━━━━━━━━━━━━━━━━━━━━━━━━━━━━━━━━━\u001b[0m \u001b[32m121.9/121.9 kB\u001b[0m \u001b[31m2.2 MB/s\u001b[0m eta \u001b[36m0:00:00\u001b[0m\n",
            "\u001b[?25hInstalling collected packages: groq\n",
            "Successfully installed groq-0.18.0\n"
          ]
        }
      ],
      "source": [
        "%pip install groq # Instalando o groq"
      ]
    },
    {
      "cell_type": "code",
      "source": [
        "import os\n",
        "\n",
        "os.environ['GROQ_API_KEY'] = \"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\" # Utilizando a chave da API que peguei no Groq"
      ],
      "metadata": {
        "id": "tRiYgqHpA-iM"
      },
      "execution_count": 2,
      "outputs": []
    },
    {
      "cell_type": "code",
      "source": [
        "import os\n",
        "from groq import Groq # Importa a classe que nos permite interagir com a API do Groq\n",
        "\n",
        "client = Groq(\n",
        "    api_key=os.environ.get(\"GROQ_API_KEY\"),\n",
        ") # Inicializando o Groq e passando a minha chave ali de cima\n",
        "\n",
        "chat_completion = client.chat.completions.create(\n",
        "    messages=[\n",
        "        {\n",
        "            \"role\": \"user\",\n",
        "            \"content\": \"Explain the importance of fast language models\", # Passando uma mensagem teste para o nosso modelo\n",
        "        }\n",
        "    ],\n",
        "    model=\"llama3-70b-8192\", # Definindo que modelo vamos utilizar\n",
        ")\n",
        "\n",
        "print(chat_completion.choices[0].message.content) # Aqui printamos a resposta que o modelo vai dar para o nosso prompt/mensagem que passamos para ele ali em cima"
      ],
      "metadata": {
        "colab": {
          "base_uri": "https://localhost:8080/"
        },
        "id": "QdUydG5yA_fM",
        "outputId": "443a7930-ab7b-49ad-d27d-41432aa52123"
      },
      "execution_count": 3,
      "outputs": [
        {
          "output_type": "stream",
          "name": "stdout",
          "text": [
            "Fast language models are artificial intelligence (AI) models that can process and generate human-like language at high speeds, often in real-time or near real-time. The importance of fast language models lies in their ability to transform various industries and aspects of our lives, including:\n",
            "\n",
            "1. **Customer Service Chatbots**: Fast language models enable chatbots to respond quickly and accurately to customer inquiries, providing 24/7 support and improving customer satisfaction.\n",
            "2. **Virtual Assistants**: Fast language models power virtual assistants like Alexa, Google Assistant, and Siri, allowing them to understand and respond to voice commands rapidly.\n",
            "3. **Language Translation**: Fast language models can translate languages in real-time, facilitating global communication and breaking language barriers.\n",
            "4. **Content Generation**: Fast language models can generate high-quality content, such as articles, social media posts, and product descriptions, at an unprecedented pace, revolutionizing content creation.\n",
            "5. **Conversational Interfaces**: Fast language models enable conversational interfaces in applications, making interactions more natural and human-like.\n",
            "6. **Healthcare**: Fast language models can help analyze medical records, generate medical reports, and provide clinical decision support, improving healthcare outcomes and efficiency.\n",
            "7. **Cybersecurity**: Fast language models can detect and respond to cyber threats in real-time, enhancing cybersecurity and protecting sensitive information.\n",
            "8. **Education**: Fast language models can create personalized learning experiences, generating tailored content and adapting to individual learning styles.\n",
            "9. **Accessibility**: Fast language models can provide real-time transcriptions, enabling people with disabilities to access information and communicate more easily.\n",
            "10. **Research and Development**: Fast language models can accelerate research in natural language processing (NLP) and other fields, driving innovation and discovery.\n",
            "\n",
            "The benefits of fast language models include:\n",
            "\n",
            "1. **Improved User Experience**: Fast response times and accurate language understanding lead to more engaging and satisfying interactions.\n",
            "2. **Increased Productivity**: Fast language models can automate tasks, freeing up time for more strategic and creative work.\n",
            "3. **Enhanced Decision-Making**: Fast language models can provide insights and analysis in real-time, supporting informed decision-making.\n",
            "4. **Cost Savings**: Fast language models can reduce the need for human labor, lowering costs and increasing efficiency.\n",
            "5. **Competitive Advantage**: Organizations that leverage fast language models can gain a competitive edge in their respective markets.\n",
            "\n",
            "In summary, fast language models have the potential to transform various industries and aspects of our lives by enabling rapid, accurate, and efficient language understanding and generation.\n"
          ]
        }
      ]
    },
    {
      "cell_type": "code",
      "source": [
        "class Agent:\n",
        "  def __init__(self, client, system):\n",
        "    self.client =  client # Inicializando o cliente\n",
        "    self.system = system # Inicializando a mensagem do sistema para o modelo entender como ele deve trabalhar em loop\n",
        "    self.messages = [] # Lista de mensagens que vamos passar\n",
        "    if self.system is not None: # Se a mensagem não for vazia nos vamos adiciona-la na nossa lista\n",
        "      self.messages.append({\"role\":\"system\", \"content\": self.system})\n",
        "\n",
        "  def __call__(self, message=\"\"):\n",
        "      if message: # Vai ser ativado sempre que o nosso agente for chamado\n",
        "        self.messages.append({\"role\":\"user\", \"content\": message}) # Se receber uma mensagem vai adiciona-la na lista\n",
        "      result = self.execute() # Depois de receber a mensagem vamos executar o agente com todas as mensagens da nossa lista\n",
        "      self.messages.append({\"role\":\"assistant\", \"content\": result}) # Depois vai adicionar o resultado na nossa lista\n",
        "      return result # E por fim retornar o resultado para gente\n",
        "\n",
        "  def execute(self): # Método de execução que usamos no método anterior após recebermos a mensagem, faz o modelo executar a nossa mensagem que enviaremos nos códigos a seguir\n",
        "      completion = client.chat.completions.create(\n",
        "          messages= self.messages ,\n",
        "          model=\"llama3-70b-8192\", # Definindo que modelo vamos utilizar\n",
        "      )\n",
        "      return completion.choices[0].message.content # Retorna a resposta que o modelo criou"
      ],
      "metadata": {
        "id": "OkGnyv3UBsdN"
      },
      "execution_count": 4,
      "outputs": []
    },
    {
      "cell_type": "code",
      "source": [
        "system_prompt  = \"\"\"\n",
        "You run in a loop of Thought, Action, PAUSE, Observation.\n",
        "At the end of the loop you output an Answer\n",
        "Use Thought to describe your thoughts about the question you have been asked.\n",
        "Use Action to run one of the actions available to you - then return PAUSE.\n",
        "Observation will be the result of running those actions.\n",
        "\n",
        "Your available actions are:\n",
        "\n",
        "calculate:\n",
        "e.g. calculate: 4 * 7 / 3\n",
        "Runs a calculation and returns the number - uses Python so be sure to use floating point syntax if necessary\n",
        "\n",
        "get_population:\n",
        "e.g. get_population: Goiania\n",
        "returns population of Goiania\n",
        "\n",
        "Example session:\n",
        "\n",
        "Question: What is the population of Goiânia times 2?\n",
        "Thought: I need to find the population of Goiania\n",
        "Action: get_population: Goiania\n",
        "PAUSE\n",
        "\n",
        "You will be called again with this:\n",
        "\n",
        "Observation: 1555626\n",
        "\n",
        "Thought: I need to multiply this by 2\n",
        "Action: calculate: 1555626 * 2\n",
        "PAUSE\n",
        "\n",
        "You will be called again with this:\n",
        "\n",
        "Observation: 3111252\n",
        "\n",
        "If you have the answer, output it as the Answer.\n",
        "\n",
        "Answer: The population of Goiânia times 2 is 3111252\n",
        "\n",
        "Now it's your turn:\n",
        "\"\"\".strip()\n",
        "\n",
        "# Esse o prompt do sistema que vai fazer o agente entender como ele deve se comportar para seguir o loop"
      ],
      "metadata": {
        "id": "XH7YuwbpB7iw"
      },
      "execution_count": 5,
      "outputs": []
    },
    {
      "cell_type": "code",
      "source": [
        "# Ferramentas\n",
        "def calculate(operation):\n",
        "  return eval(operation) # Ferramenta padrão de calculadora\n",
        "\n",
        "def get_population(city) -> float: # Ferramenta que serve como uma \"pseudo-pesquisa\" para que o agente possa realizar o que lhe foi pedido\n",
        "  match city.lower():\n",
        "    case \"goiania\":\n",
        "      return 1555626\n",
        "    case \"sao paulo\":\n",
        "      return 11895578\n",
        "    case \"rio de janeiro\":\n",
        "      return 6211223\n",
        "    case \"brasilia\":\n",
        "      return 2982818"
      ],
      "metadata": {
        "id": "KFnFMIszD-OC"
      },
      "execution_count": 6,
      "outputs": []
    },
    {
      "cell_type": "code",
      "source": [
        "ibge = Agent(client, system_prompt) # Instanciando o agente com o nome IBGE porque ele é um especialista em populações de cidades"
      ],
      "metadata": {
        "id": "wkh8AzWKFLUG"
      },
      "execution_count": 12,
      "outputs": []
    },
    {
      "cell_type": "markdown",
      "source": [
        "**TESTANDO O AGENTE MANUALMENTE**"
      ],
      "metadata": {
        "id": "dXcW5vtyNKCJ"
      }
    },
    {
      "cell_type": "code",
      "source": [
        "result = ibge(\"What is the sum of the population of Sao Paulo and Rio de Janeiro times 2?\") # Dando um prompt teste para o agente\n",
        "print(result) # Printando o resultado para vermos se está tudo de acordo"
      ],
      "metadata": {
        "colab": {
          "base_uri": "https://localhost:8080/"
        },
        "id": "l3VDuv9zFT1f",
        "outputId": "7c38fb9f-732b-4457-ad98-1519035b6eaa"
      },
      "execution_count": 13,
      "outputs": [
        {
          "output_type": "stream",
          "name": "stdout",
          "text": [
            "Thought: I need to find the population of Sao Paulo and Rio de Janeiro, then add them together, and finally multiply the result by 2.\n"
          ]
        }
      ]
    },
    {
      "cell_type": "code",
      "source": [
        "ibge.messages # Aqui é um log das mensagens que o agente recebe e os pensamentos que ele cria"
      ],
      "metadata": {
        "colab": {
          "base_uri": "https://localhost:8080/"
        },
        "id": "qGwhHbZDLJI6",
        "outputId": "6f0d0874-2df2-4c02-9fbf-037de3992d09"
      },
      "execution_count": 14,
      "outputs": [
        {
          "output_type": "execute_result",
          "data": {
            "text/plain": [
              "[{'role': 'system',\n",
              "  'content': \"You run in a loop of Thought, Action, PAUSE, Observation.\\nAt the end of the loop you output an Answer\\nUse Thought to describe your thoughts about the question you have been asked.\\nUse Action to run one of the actions available to you - then return PAUSE.\\nObservation will be the result of running those actions.\\n\\nYour available actions are:\\n\\ncalculate:\\ne.g. calculate: 4 * 7 / 3\\nRuns a calculation and returns the number - uses Python so be sure to use floating point syntax if necessary\\n\\nget_population:\\ne.g. get_population: Goiania\\nreturns population of Goiania\\n\\nExample session:\\n\\nQuestion: What is the population of Goiânia times 2?\\nThought: I need to find the population of Goiania\\nAction: get_population: Goiania\\nPAUSE\\n\\nYou will be called again with this:\\n\\nObservation: 1555626\\n\\nThought: I need to multiply this by 2\\nAction: calculate: 1555626 * 2\\nPAUSE\\n\\nYou will be called again with this:\\n\\nObservation: 3111252\\n\\nIf you have the answer, output it as the Answer.\\n\\nAnswer: The population of Goiânia times 2 is 3111252\\n\\nNow it's your turn:\"},\n",
              " {'role': 'user',\n",
              "  'content': 'What is the sum of the population of Sao Paulo and Rio de Janeiro times 2?'},\n",
              " {'role': 'assistant',\n",
              "  'content': 'Thought: I need to find the population of Sao Paulo and Rio de Janeiro, then add them together, and finally multiply the result by 2.'}]"
            ]
          },
          "metadata": {},
          "execution_count": 14
        }
      ]
    },
    {
      "cell_type": "code",
      "source": [
        "result = ibge() # Aqui ele vai definir que ação ele deve tomar\n",
        "print(result) # Printamos para conferir se está tudo certo"
      ],
      "metadata": {
        "colab": {
          "base_uri": "https://localhost:8080/"
        },
        "id": "NPBdrfAWLNWC",
        "outputId": "841ce1b3-ad4d-4caf-9868-a0305780626e"
      },
      "execution_count": 16,
      "outputs": [
        {
          "output_type": "stream",
          "name": "stdout",
          "text": [
            "Action: get_population: Sao Paulo\n",
            "PAUSE\n"
          ]
        }
      ]
    },
    {
      "cell_type": "code",
      "source": [
        "observation = get_population(\"sao paulo\") # Como ainda não criamos o loop já damos a resposta da ação dele diretamente para ele\n",
        "print(observation) # Printamos para conferir se está tudo certo"
      ],
      "metadata": {
        "colab": {
          "base_uri": "https://localhost:8080/"
        },
        "id": "LuURUa1_LZB8",
        "outputId": "961f05d8-dd1b-4df3-b7f2-b5edb8ca33b2"
      },
      "execution_count": 17,
      "outputs": [
        {
          "output_type": "stream",
          "name": "stdout",
          "text": [
            "11895578\n"
          ]
        }
      ]
    },
    {
      "cell_type": "code",
      "source": [
        "next_prompt = f\"Observation: {observation}\"\n",
        "result = ibge(next_prompt) # Dando a observação para o agente\n",
        "print(result) # Printamos para conferir se está tudo certo"
      ],
      "metadata": {
        "colab": {
          "base_uri": "https://localhost:8080/"
        },
        "id": "FWYbLL0YLjH8",
        "outputId": "58438b75-e130-4b8b-a7e3-c17cfa646c51"
      },
      "execution_count": 18,
      "outputs": [
        {
          "output_type": "stream",
          "name": "stdout",
          "text": [
            "Thought: Now I have the population of Sao Paulo, I need to find the population of Rio de Janeiro and add it to this number.\n"
          ]
        }
      ]
    },
    {
      "cell_type": "code",
      "source": [
        "ibge.messages # Conferindo o log para termos certeza que o loop está de acordo, Thought, Action e Observation."
      ],
      "metadata": {
        "colab": {
          "base_uri": "https://localhost:8080/"
        },
        "id": "5_0zhMLtMC7d",
        "outputId": "43deb434-9a15-4c5f-9b10-820fa64c90c2"
      },
      "execution_count": 19,
      "outputs": [
        {
          "output_type": "execute_result",
          "data": {
            "text/plain": [
              "[{'role': 'system',\n",
              "  'content': \"You run in a loop of Thought, Action, PAUSE, Observation.\\nAt the end of the loop you output an Answer\\nUse Thought to describe your thoughts about the question you have been asked.\\nUse Action to run one of the actions available to you - then return PAUSE.\\nObservation will be the result of running those actions.\\n\\nYour available actions are:\\n\\ncalculate:\\ne.g. calculate: 4 * 7 / 3\\nRuns a calculation and returns the number - uses Python so be sure to use floating point syntax if necessary\\n\\nget_population:\\ne.g. get_population: Goiania\\nreturns population of Goiania\\n\\nExample session:\\n\\nQuestion: What is the population of Goiânia times 2?\\nThought: I need to find the population of Goiania\\nAction: get_population: Goiania\\nPAUSE\\n\\nYou will be called again with this:\\n\\nObservation: 1555626\\n\\nThought: I need to multiply this by 2\\nAction: calculate: 1555626 * 2\\nPAUSE\\n\\nYou will be called again with this:\\n\\nObservation: 3111252\\n\\nIf you have the answer, output it as the Answer.\\n\\nAnswer: The population of Goiânia times 2 is 3111252\\n\\nNow it's your turn:\"},\n",
              " {'role': 'user',\n",
              "  'content': 'What is the sum of the population of Sao Paulo and Rio de Janeiro times 2?'},\n",
              " {'role': 'assistant',\n",
              "  'content': 'Thought: I need to find the population of Sao Paulo and Rio de Janeiro, then add them together, and finally multiply the result by 2.'},\n",
              " {'role': 'assistant', 'content': ''},\n",
              " {'role': 'assistant', 'content': 'Action: get_population: Sao Paulo\\nPAUSE'},\n",
              " {'role': 'user', 'content': 'Observation: 11895578'},\n",
              " {'role': 'assistant',\n",
              "  'content': 'Thought: Now I have the population of Sao Paulo, I need to find the population of Rio de Janeiro and add it to this number.'}]"
            ]
          },
          "metadata": {},
          "execution_count": 19
        }
      ]
    },
    {
      "cell_type": "code",
      "source": [
        "result = ibge() # Esperamos a próxima ação\n",
        "print(result) # Printamos para conferir se está tudo certo"
      ],
      "metadata": {
        "colab": {
          "base_uri": "https://localhost:8080/"
        },
        "id": "sxASUXrMMIA2",
        "outputId": "398ee814-c96d-48a1-ba10-2c97ee0dd78a"
      },
      "execution_count": 21,
      "outputs": [
        {
          "output_type": "stream",
          "name": "stdout",
          "text": [
            "Action: get_population: Rio de Janeiro\n",
            "PAUSE\n"
          ]
        }
      ]
    },
    {
      "cell_type": "code",
      "source": [
        "observation = get_population(\"rio de janeiro\") # Criando a observação para ele\n",
        "print (observation) # Printamos para conferir se está tudo certo"
      ],
      "metadata": {
        "colab": {
          "base_uri": "https://localhost:8080/"
        },
        "id": "tjW9la73MPiP",
        "outputId": "4f9cfe37-1ab5-43de-d948-786bc0996486"
      },
      "execution_count": 22,
      "outputs": [
        {
          "output_type": "stream",
          "name": "stdout",
          "text": [
            "6211223\n"
          ]
        }
      ]
    },
    {
      "cell_type": "code",
      "source": [
        "next_prompt = f\"Observation: {observation}\"\n",
        "result = ibge(next_prompt) # Colocando a observação nele\n",
        "print(result) # Printamos para conferir se está tudo certo"
      ],
      "metadata": {
        "colab": {
          "base_uri": "https://localhost:8080/"
        },
        "id": "vwK3WCMNMTnw",
        "outputId": "d27e44a7-779f-4d89-c2a8-534a258700dc"
      },
      "execution_count": 23,
      "outputs": [
        {
          "output_type": "stream",
          "name": "stdout",
          "text": [
            "Thought: Now I have the populations of both Sao Paulo and Rio de Janeiro, I need to add them together and then multiply the result by 2.\n"
          ]
        }
      ]
    },
    {
      "cell_type": "code",
      "source": [
        "ibge.messages # Conferindo o log"
      ],
      "metadata": {
        "colab": {
          "base_uri": "https://localhost:8080/"
        },
        "id": "HKRGsK1EMWF8",
        "outputId": "55c2c1be-3806-4932-fb15-a76173017e02"
      },
      "execution_count": 24,
      "outputs": [
        {
          "output_type": "execute_result",
          "data": {
            "text/plain": [
              "[{'role': 'system',\n",
              "  'content': \"You run in a loop of Thought, Action, PAUSE, Observation.\\nAt the end of the loop you output an Answer\\nUse Thought to describe your thoughts about the question you have been asked.\\nUse Action to run one of the actions available to you - then return PAUSE.\\nObservation will be the result of running those actions.\\n\\nYour available actions are:\\n\\ncalculate:\\ne.g. calculate: 4 * 7 / 3\\nRuns a calculation and returns the number - uses Python so be sure to use floating point syntax if necessary\\n\\nget_population:\\ne.g. get_population: Goiania\\nreturns population of Goiania\\n\\nExample session:\\n\\nQuestion: What is the population of Goiânia times 2?\\nThought: I need to find the population of Goiania\\nAction: get_population: Goiania\\nPAUSE\\n\\nYou will be called again with this:\\n\\nObservation: 1555626\\n\\nThought: I need to multiply this by 2\\nAction: calculate: 1555626 * 2\\nPAUSE\\n\\nYou will be called again with this:\\n\\nObservation: 3111252\\n\\nIf you have the answer, output it as the Answer.\\n\\nAnswer: The population of Goiânia times 2 is 3111252\\n\\nNow it's your turn:\"},\n",
              " {'role': 'user',\n",
              "  'content': 'What is the sum of the population of Sao Paulo and Rio de Janeiro times 2?'},\n",
              " {'role': 'assistant',\n",
              "  'content': 'Thought: I need to find the population of Sao Paulo and Rio de Janeiro, then add them together, and finally multiply the result by 2.'},\n",
              " {'role': 'assistant', 'content': ''},\n",
              " {'role': 'assistant', 'content': 'Action: get_population: Sao Paulo\\nPAUSE'},\n",
              " {'role': 'user', 'content': 'Observation: 11895578'},\n",
              " {'role': 'assistant',\n",
              "  'content': 'Thought: Now I have the population of Sao Paulo, I need to find the population of Rio de Janeiro and add it to this number.'},\n",
              " {'role': 'assistant', 'content': ''},\n",
              " {'role': 'assistant',\n",
              "  'content': 'Action: get_population: Rio de Janeiro\\nPAUSE'},\n",
              " {'role': 'user', 'content': 'Observation: 6211223'},\n",
              " {'role': 'assistant',\n",
              "  'content': 'Thought: Now I have the populations of both Sao Paulo and Rio de Janeiro, I need to add them together and then multiply the result by 2.'}]"
            ]
          },
          "metadata": {},
          "execution_count": 24
        }
      ]
    },
    {
      "cell_type": "code",
      "source": [
        "result = ibge() # Repetindo o loop, agora na ação\n",
        "print(result) # Printamos para conferir se está tudo certo"
      ],
      "metadata": {
        "colab": {
          "base_uri": "https://localhost:8080/"
        },
        "id": "fOvQLMTXMv3r",
        "outputId": "6b3b199b-d33b-4a3f-a89b-a7379bbea75f"
      },
      "execution_count": 26,
      "outputs": [
        {
          "output_type": "stream",
          "name": "stdout",
          "text": [
            "Action: calculate: 11895578 + 6211223\n",
            "PAUSE\n"
          ]
        }
      ]
    },
    {
      "cell_type": "code",
      "source": [
        "observation = calculate(\"(11895578 + 6211223)\") # Criando a observação para ele\n",
        "print(observation) # Printamos para conferir se está tudo certo"
      ],
      "metadata": {
        "colab": {
          "base_uri": "https://localhost:8080/"
        },
        "id": "x0bSd6kdMmrR",
        "outputId": "187a3839-bfee-4239-a346-eaea492e2483"
      },
      "execution_count": 27,
      "outputs": [
        {
          "output_type": "stream",
          "name": "stdout",
          "text": [
            "18106801\n"
          ]
        }
      ]
    },
    {
      "cell_type": "code",
      "source": [
        "next_prompt = f\"Observation: {observation}\"\n",
        "result = ibge(next_prompt) # Dando a observação para ele\n",
        "print(result) # Printamos para conferir se está tudo certo"
      ],
      "metadata": {
        "colab": {
          "base_uri": "https://localhost:8080/"
        },
        "id": "9NzbY1hiM8JD",
        "outputId": "a5faed40-24ab-4d7c-b5ff-8f61fff5aae6"
      },
      "execution_count": 28,
      "outputs": [
        {
          "output_type": "stream",
          "name": "stdout",
          "text": [
            "Thought: Now I have the sum of the populations, I need to multiply it by 2.\n"
          ]
        }
      ]
    },
    {
      "cell_type": "code",
      "source": [
        "ibge.messages # Conferindo o log"
      ],
      "metadata": {
        "colab": {
          "base_uri": "https://localhost:8080/"
        },
        "id": "xjIBDCSVfruP",
        "outputId": "67f35008-fc8a-45a4-ae78-06a81068b477"
      },
      "execution_count": 29,
      "outputs": [
        {
          "output_type": "execute_result",
          "data": {
            "text/plain": [
              "[{'role': 'system',\n",
              "  'content': \"You run in a loop of Thought, Action, PAUSE, Observation.\\nAt the end of the loop you output an Answer\\nUse Thought to describe your thoughts about the question you have been asked.\\nUse Action to run one of the actions available to you - then return PAUSE.\\nObservation will be the result of running those actions.\\n\\nYour available actions are:\\n\\ncalculate:\\ne.g. calculate: 4 * 7 / 3\\nRuns a calculation and returns the number - uses Python so be sure to use floating point syntax if necessary\\n\\nget_population:\\ne.g. get_population: Goiania\\nreturns population of Goiania\\n\\nExample session:\\n\\nQuestion: What is the population of Goiânia times 2?\\nThought: I need to find the population of Goiania\\nAction: get_population: Goiania\\nPAUSE\\n\\nYou will be called again with this:\\n\\nObservation: 1555626\\n\\nThought: I need to multiply this by 2\\nAction: calculate: 1555626 * 2\\nPAUSE\\n\\nYou will be called again with this:\\n\\nObservation: 3111252\\n\\nIf you have the answer, output it as the Answer.\\n\\nAnswer: The population of Goiânia times 2 is 3111252\\n\\nNow it's your turn:\"},\n",
              " {'role': 'user',\n",
              "  'content': 'What is the sum of the population of Sao Paulo and Rio de Janeiro times 2?'},\n",
              " {'role': 'assistant',\n",
              "  'content': 'Thought: I need to find the population of Sao Paulo and Rio de Janeiro, then add them together, and finally multiply the result by 2.'},\n",
              " {'role': 'assistant', 'content': ''},\n",
              " {'role': 'assistant', 'content': 'Action: get_population: Sao Paulo\\nPAUSE'},\n",
              " {'role': 'user', 'content': 'Observation: 11895578'},\n",
              " {'role': 'assistant',\n",
              "  'content': 'Thought: Now I have the population of Sao Paulo, I need to find the population of Rio de Janeiro and add it to this number.'},\n",
              " {'role': 'assistant', 'content': ''},\n",
              " {'role': 'assistant',\n",
              "  'content': 'Action: get_population: Rio de Janeiro\\nPAUSE'},\n",
              " {'role': 'user', 'content': 'Observation: 6211223'},\n",
              " {'role': 'assistant',\n",
              "  'content': 'Thought: Now I have the populations of both Sao Paulo and Rio de Janeiro, I need to add them together and then multiply the result by 2.'},\n",
              " {'role': 'assistant', 'content': ''},\n",
              " {'role': 'assistant',\n",
              "  'content': 'Action: calculate: 11895578 + 6211223\\nPAUSE'},\n",
              " {'role': 'user', 'content': 'Observation: 18106801'},\n",
              " {'role': 'assistant',\n",
              "  'content': 'Thought: Now I have the sum of the populations, I need to multiply it by 2.'}]"
            ]
          },
          "metadata": {},
          "execution_count": 29
        }
      ]
    },
    {
      "cell_type": "code",
      "source": [
        "result = ibge() # Fazendo ele nos dar a próxima ação\n",
        "print(result) # Printamos para conferir se está tudo certo"
      ],
      "metadata": {
        "colab": {
          "base_uri": "https://localhost:8080/"
        },
        "id": "DOLHUNYzNhPB",
        "outputId": "cf96a501-6130-4722-da12-ea86101da9e8"
      },
      "execution_count": 31,
      "outputs": [
        {
          "output_type": "stream",
          "name": "stdout",
          "text": [
            "Action: calculate: 18106801 * 2\n",
            "PAUSE\n"
          ]
        }
      ]
    },
    {
      "cell_type": "code",
      "source": [
        "observation = calculate(\"18106801 * 2\") # Criando a última observação\n",
        "print(observation) # Printamos para conferir se está tudo certo"
      ],
      "metadata": {
        "colab": {
          "base_uri": "https://localhost:8080/"
        },
        "id": "C6em0a89NlTS",
        "outputId": "f4b66151-bdd1-4149-8162-9e429005e1a6"
      },
      "execution_count": 32,
      "outputs": [
        {
          "output_type": "stream",
          "name": "stdout",
          "text": [
            "36213602\n"
          ]
        }
      ]
    },
    {
      "cell_type": "code",
      "source": [
        "next_prompt = f\"Observation: {observation}\"\n",
        "result = ibge(next_prompt) # Dando a observação para ele\n",
        "print(result) # Printamos para conferir se está tudo certo"
      ],
      "metadata": {
        "colab": {
          "base_uri": "https://localhost:8080/"
        },
        "id": "JfOZpCXWNsA6",
        "outputId": "7ce1b330-7100-44bf-f211-46579eebbc02"
      },
      "execution_count": 33,
      "outputs": [
        {
          "output_type": "stream",
          "name": "stdout",
          "text": [
            "Thought: Now I have the final result, which is the sum of the population of Sao Paulo and Rio de Janeiro times 2.\n",
            "\n",
            "Answer: The sum of the population of Sao Paulo and Rio de Janeiro times 2 is 36213602.\n"
          ]
        }
      ]
    },
    {
      "cell_type": "code",
      "source": [
        "ibge.messages # Conferindo o log"
      ],
      "metadata": {
        "colab": {
          "base_uri": "https://localhost:8080/"
        },
        "id": "0Rqgv_j0NCRU",
        "outputId": "7f79c77a-14e2-467e-8f9d-624b373153b4"
      },
      "execution_count": 34,
      "outputs": [
        {
          "output_type": "execute_result",
          "data": {
            "text/plain": [
              "[{'role': 'system',\n",
              "  'content': \"You run in a loop of Thought, Action, PAUSE, Observation.\\nAt the end of the loop you output an Answer\\nUse Thought to describe your thoughts about the question you have been asked.\\nUse Action to run one of the actions available to you - then return PAUSE.\\nObservation will be the result of running those actions.\\n\\nYour available actions are:\\n\\ncalculate:\\ne.g. calculate: 4 * 7 / 3\\nRuns a calculation and returns the number - uses Python so be sure to use floating point syntax if necessary\\n\\nget_population:\\ne.g. get_population: Goiania\\nreturns population of Goiania\\n\\nExample session:\\n\\nQuestion: What is the population of Goiânia times 2?\\nThought: I need to find the population of Goiania\\nAction: get_population: Goiania\\nPAUSE\\n\\nYou will be called again with this:\\n\\nObservation: 1555626\\n\\nThought: I need to multiply this by 2\\nAction: calculate: 1555626 * 2\\nPAUSE\\n\\nYou will be called again with this:\\n\\nObservation: 3111252\\n\\nIf you have the answer, output it as the Answer.\\n\\nAnswer: The population of Goiânia times 2 is 3111252\\n\\nNow it's your turn:\"},\n",
              " {'role': 'user',\n",
              "  'content': 'What is the sum of the population of Sao Paulo and Rio de Janeiro times 2?'},\n",
              " {'role': 'assistant',\n",
              "  'content': 'Thought: I need to find the population of Sao Paulo and Rio de Janeiro, then add them together, and finally multiply the result by 2.'},\n",
              " {'role': 'assistant', 'content': ''},\n",
              " {'role': 'assistant', 'content': 'Action: get_population: Sao Paulo\\nPAUSE'},\n",
              " {'role': 'user', 'content': 'Observation: 11895578'},\n",
              " {'role': 'assistant',\n",
              "  'content': 'Thought: Now I have the population of Sao Paulo, I need to find the population of Rio de Janeiro and add it to this number.'},\n",
              " {'role': 'assistant', 'content': ''},\n",
              " {'role': 'assistant',\n",
              "  'content': 'Action: get_population: Rio de Janeiro\\nPAUSE'},\n",
              " {'role': 'user', 'content': 'Observation: 6211223'},\n",
              " {'role': 'assistant',\n",
              "  'content': 'Thought: Now I have the populations of both Sao Paulo and Rio de Janeiro, I need to add them together and then multiply the result by 2.'},\n",
              " {'role': 'assistant', 'content': ''},\n",
              " {'role': 'assistant',\n",
              "  'content': 'Action: calculate: 11895578 + 6211223\\nPAUSE'},\n",
              " {'role': 'user', 'content': 'Observation: 18106801'},\n",
              " {'role': 'assistant',\n",
              "  'content': 'Thought: Now I have the sum of the populations, I need to multiply it by 2.'},\n",
              " {'role': 'assistant', 'content': ''},\n",
              " {'role': 'assistant', 'content': 'Action: calculate: 18106801 * 2\\nPAUSE'},\n",
              " {'role': 'user', 'content': 'Observation: 36213602'},\n",
              " {'role': 'assistant',\n",
              "  'content': 'Thought: Now I have the final result, which is the sum of the population of Sao Paulo and Rio de Janeiro times 2.\\n\\nAnswer: The sum of the population of Sao Paulo and Rio de Janeiro times 2 is 36213602.'}]"
            ]
          },
          "metadata": {},
          "execution_count": 34
        }
      ]
    },
    {
      "cell_type": "markdown",
      "source": [
        "**CRIANDO O LOOP PARA O AGENTE FUNCIONAR APENAS COM O PROMPT**"
      ],
      "metadata": {
        "id": "fo1Yw2z-iSCU"
      }
    },
    {
      "cell_type": "code",
      "source": [
        "import re # Criando o loop do agente\n",
        "\n",
        "def agent_loop(max_iterations, system, query):\n",
        "  agent = Agent(client, system_prompt) # Inicilizando o agente\n",
        "  tools = ['calculate', 'get_population'] # Inicilizando as ferramentas que temos\n",
        "  next_prompt = query # Definimos o primeiro prompt como pedido que vamos mandar para o loop do agente\n",
        "  i = 0\n",
        "  while i < max_iterations: # Iniciando o loop\n",
        "    i += 1\n",
        "    result = agent(next_prompt) # Chamando o agente\n",
        "    print(result) # Printando o resultado para análise\n",
        "\n",
        "    if \"PAUSE\" in result and \"Action\" in result: # Se o resultado tiver PAUSE e AÇÃO\n",
        "      action = re.findall(r\"Action: ([a-z_]+): (.+)\", result, re.IGNORECASE) # Nós encontramos o nome da ação e os parâmetros com essa linha de código\n",
        "      chosen_tool = action[0][0] # Organizando a ferramenta selecionada\n",
        "      arg = action[0][1] # Organizado o parâmetro encontrado\n",
        "\n",
        "      if chosen_tool in tools: # Se a ferramenta estiver entre as que nós temos\n",
        "        result_tool = eval(f\"{chosen_tool}('{arg}')\") # Usamos e ferramenta e temos o resultado dela\n",
        "        next_prompt = f\"Observation: {result_tool}\" # Que é analisado nessa observação\n",
        "\n",
        "      else:\n",
        "        next_prompt = \"Observation: Tool not found\" # Se não tivermos a ferramenta vamos dizer que não encontramos a ferramenta para que o sistema procure outra correta\n",
        "\n",
        "      print(next_prompt) # Printamos para sabermos o que está acontecendo\n",
        "      continue # Continua a fazer mais iterações\n",
        "\n",
        "    if \"Answer\" in result: # Se o agente tiver \"resposta\" no seu resultado nós paramos o loop\n",
        "      break\n"
      ],
      "metadata": {
        "id": "BqWj7cSwPby_"
      },
      "execution_count": 35,
      "outputs": []
    },
    {
      "cell_type": "code",
      "source": [
        "agent_loop(max_iterations=50, system=system_prompt, query=\"What is the sum of the population of Sao Paulo, Goiania and Rio de Janeiro and all of it times 5?\") # Implementando o loop do agente criado"
      ],
      "metadata": {
        "colab": {
          "base_uri": "https://localhost:8080/"
        },
        "id": "sIcvOKF8Q7eK",
        "outputId": "21e4ad29-76e2-4949-90ec-99fc52b3143f"
      },
      "execution_count": 36,
      "outputs": [
        {
          "output_type": "stream",
          "name": "stdout",
          "text": [
            "Thought: I need to find the population of Sao Paulo, Goiania, and Rio de Janeiro, and then add them together.\n",
            "Action: get_population: Sao Paulo\n",
            "PAUSE\n",
            "Observation: 11895578\n",
            "Thought: I have the population of Sao Paulo, now I need to find the population of Goiania and Rio de Janeiro.\n",
            "Action: get_population: Goiania\n",
            "PAUSE\n",
            "Observation: 1555626\n",
            "Thought: I have the population of Sao Paulo and Goiania, now I need to find the population of Rio de Janeiro.\n",
            "Action: get_population: Rio de Janeiro\n",
            "PAUSE\n",
            "Observation: 6211223\n",
            "Thought: I have the population of Sao Paulo, Goiania, and Rio de Janeiro, now I need to add them together.\n",
            "Action: calculate: 11895578 + 1555626 + 6211223\n",
            "PAUSE\n",
            "Observation: 19662427\n",
            "Thought: I have the sum of the populations, now I need to multiply it by 5.\n",
            "Action: calculate: 19662427 * 5\n",
            "PAUSE\n",
            "Observation: 98312135\n",
            "Answer: The sum of the population of Sao Paulo, Goiania and Rio de Janeiro and all of it times 5 is 98312135.\n"
          ]
        }
      ]
    }
  ]
}