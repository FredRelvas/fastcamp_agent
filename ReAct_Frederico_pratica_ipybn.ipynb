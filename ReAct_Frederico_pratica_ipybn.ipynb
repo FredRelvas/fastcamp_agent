{
  "nbformat": 4,
  "nbformat_minor": 0,
  "metadata": {
    "colab": {
      "provenance": []
    },
    "kernelspec": {
      "name": "python3",
      "display_name": "Python 3"
    },
    "language_info": {
      "name": "python"
    }
  },
  "cells": [
    {
      "cell_type": "code",
      "execution_count": 1,
      "metadata": {
        "colab": {
          "base_uri": "https://localhost:8080/"
        },
        "id": "FjDJo9hyA5kA",
        "outputId": "f85c2963-9915-48d5-8fc7-3505c47cc4e3"
      },
      "outputs": [
        {
          "output_type": "stream",
          "name": "stdout",
          "text": [
            "Collecting groq\n",
            "  Downloading groq-0.18.0-py3-none-any.whl.metadata (14 kB)\n",
            "Requirement already satisfied: anyio<5,>=3.5.0 in /usr/local/lib/python3.11/dist-packages (from groq) (3.7.1)\n",
            "Requirement already satisfied: distro<2,>=1.7.0 in /usr/local/lib/python3.11/dist-packages (from groq) (1.9.0)\n",
            "Requirement already satisfied: httpx<1,>=0.23.0 in /usr/local/lib/python3.11/dist-packages (from groq) (0.28.1)\n",
            "Requirement already satisfied: pydantic<3,>=1.9.0 in /usr/local/lib/python3.11/dist-packages (from groq) (2.10.6)\n",
            "Requirement already satisfied: sniffio in /usr/local/lib/python3.11/dist-packages (from groq) (1.3.1)\n",
            "Requirement already satisfied: typing-extensions<5,>=4.10 in /usr/local/lib/python3.11/dist-packages (from groq) (4.12.2)\n",
            "Requirement already satisfied: idna>=2.8 in /usr/local/lib/python3.11/dist-packages (from anyio<5,>=3.5.0->groq) (3.10)\n",
            "Requirement already satisfied: certifi in /usr/local/lib/python3.11/dist-packages (from httpx<1,>=0.23.0->groq) (2025.1.31)\n",
            "Requirement already satisfied: httpcore==1.* in /usr/local/lib/python3.11/dist-packages (from httpx<1,>=0.23.0->groq) (1.0.7)\n",
            "Requirement already satisfied: h11<0.15,>=0.13 in /usr/local/lib/python3.11/dist-packages (from httpcore==1.*->httpx<1,>=0.23.0->groq) (0.14.0)\n",
            "Requirement already satisfied: annotated-types>=0.6.0 in /usr/local/lib/python3.11/dist-packages (from pydantic<3,>=1.9.0->groq) (0.7.0)\n",
            "Requirement already satisfied: pydantic-core==2.27.2 in /usr/local/lib/python3.11/dist-packages (from pydantic<3,>=1.9.0->groq) (2.27.2)\n",
            "Downloading groq-0.18.0-py3-none-any.whl (121 kB)\n",
            "\u001b[2K   \u001b[90m━━━━━━━━━━━━━━━━━━━━━━━━━━━━━━━━━━━━━━━━\u001b[0m \u001b[32m121.9/121.9 kB\u001b[0m \u001b[31m3.4 MB/s\u001b[0m eta \u001b[36m0:00:00\u001b[0m\n",
            "\u001b[?25hInstalling collected packages: groq\n",
            "Successfully installed groq-0.18.0\n"
          ]
        }
      ],
      "source": [
        "%pip install groq # Instalando o groq"
      ]
    },
    {
      "cell_type": "code",
      "source": [
        "import os\n",
        "\n",
        "os.environ['GROQ_API_KEY'] = \"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\" # Utilizando a chave da API que peguei no Groq"
      ],
      "metadata": {
        "id": "tRiYgqHpA-iM"
      },
      "execution_count": 2,
      "outputs": []
    },
    {
      "cell_type": "code",
      "source": [
        "import os\n",
        "from groq import Groq # Importa a classe que nos permite interagir com a API do Groq\n",
        "\n",
        "client = Groq(\n",
        "    api_key=os.environ.get(\"GROQ_API_KEY\"),\n",
        ") # Inicializando o Groq e passando a minha chave ali de cima\n",
        "\n",
        "chat_completion = client.chat.completions.create(\n",
        "    messages=[\n",
        "        {\n",
        "            \"role\": \"user\",\n",
        "            \"content\": \"Explain the importance of fast language models\", # Passando as mensagens para o nosso modelo\n",
        "        }\n",
        "    ],\n",
        "    model=\"llama3-70b-8192\", # Definindo que modelo vamos utilizar\n",
        ")\n",
        "\n",
        "print(chat_completion.choices[0].message.content) # Aqui printamos a resposta que o modelo vai dar para o nosso prompt/mensagem que passamos para ele ali em cima"
      ],
      "metadata": {
        "colab": {
          "base_uri": "https://localhost:8080/"
        },
        "id": "QdUydG5yA_fM",
        "outputId": "8f51f973-25ba-45fb-9b70-f73dceb16768"
      },
      "execution_count": 3,
      "outputs": [
        {
          "output_type": "stream",
          "name": "stdout",
          "text": [
            "Fast language models are crucial in today's natural language processing (NLP) landscape, and their importance can be seen in several aspects:\n",
            "\n",
            "1. **Real-time Processing**: Fast language models enable real-time processing of large volumes of text data, which is essential for applications like chatbots, virtual assistants, and sentiment analysis. They can quickly analyze and respond to user input, providing a more interactive and engaging experience.\n",
            "2. **Efficient Deployment**: Fast language models can be deployed on devices with limited computational resources, such as smartphones, embedded systems, or edge devices. This allows for on-device NLP capabilities, reducing latency, and improving user privacy by avoiding the need to send data to cloud servers for processing.\n",
            "3. **Scalability**: Fast language models can handle large datasets and high traffic volumes, making them ideal for applications that require processing massive amounts of text data, such as search engines, social media platforms, or content recommendation systems.\n",
            "4. **Cost Savings**: Fast language models can significantly reduce the computational resources required for NLP tasks, leading to cost savings in terms of energy consumption, hardware, and infrastructure.\n",
            "5. **Improved User Experience**: Fast language models enable features like instant language translation, real-time typo correction, and quick sentence completion, which can greatly enhance the overall user experience.\n",
            "6. **Competitive Advantage**: Organizations that can process and respond to text-based data quickly can gain a competitive advantage over those that cannot. Fast language models can provide a significant edge in areas like customer service, sentiment analysis, and market research.\n",
            "7. **Research and Development**: Fast language models can facilitate faster experimentation, prototyping, and development of new NLP models and applications. This can lead to accelerated innovation and breakthroughs in areas like machine translation, question answering, and text generation.\n",
            "8. **Low-Latency Applications**: Fast language models are essential for applications that require extremely low latency, such as:\n",
            "\t* Real-time speech recognition and synthesis\n",
            "\t* Autonomous vehicles (e.g., text-based control and navigation)\n",
            "\t* Robotics (e.g., human-robot interaction)\n",
            "\t* Healthcare (e.g., medical chatbots, telemedicine)\n",
            "9. **Edge AI**: Fast language models are critical for edge AI applications, which involve processing data on devices or sensors at the edge of the network. This reduces latency, improves real-time decision-making, and enhances security.\n",
            "10. **Environmental Impact**: By reducing the need for powerful computing infrastructure and energy consumption, fast language models can contribute to a more environmentally friendly and sustainable approach to NLP.\n",
            "\n",
            "In summary, fast language models are essential for a wide range of applications that require real-time processing, efficiency, scalability, and cost-effectiveness. They have the potential to revolutionize various industries and domains, enabling new use cases, and improving user experiences.\n"
          ]
        }
      ]
    },
    {
      "cell_type": "code",
      "source": [
        "class Agent:\n",
        "  def __init__(self, client, system):\n",
        "    self.client =  client # Inicializando o cliente\n",
        "    self.system = system # Inicializando a mensagem do sistema para o modelo entender como ele deve trabalhar em loop\n",
        "    self.messages = [] # Lista de mensagens que vamos passar\n",
        "    if self.system is not None: # Se a mensagem não for vazia nos vamos adiciona-la na nossa lista\n",
        "      self.messages.append({\"role\":\"system\", \"content\": self.system})\n",
        "\n",
        "  def __call__(self, message=\"\"):\n",
        "      if message: # Vai ser ativado sempre que o nosso agente for chamado\n",
        "        self.messages.append({\"role\":\"user\", \"content\": message}) # Se receber uma mensagem vai adiciona-la na lista\n",
        "      result = self.execute() # Depois de receber a mensagem vamos executar o agente com todas as mensagens da nossa lista\n",
        "      self.messages.append({\"role\":\"assistant\", \"content\": result}) # Depois vai adicionar o resultado na nossa lista\n",
        "      return result # E por fim retornar o resultado para gente\n",
        "\n",
        "  def execute(self): # Método de execução que usamos no método anterior após recebermos a mensagem\n",
        "      completion = client.chat.completions.create(\n",
        "          messages= self.messages ,\n",
        "          model=\"llama3-70b-8192\", # Definindo que modelo vamos utilizar\n",
        "      )\n",
        "      return completion.choices[0].message.content"
      ],
      "metadata": {
        "id": "OkGnyv3UBsdN"
      },
      "execution_count": 4,
      "outputs": []
    },
    {
      "cell_type": "code",
      "source": [
        "system_prompt  = \"\"\"\n",
        "You run in a loop of Thought, Action, PAUSE, Observation.\n",
        "At the end of the loop you output an Answer\n",
        "Use Thought to describe your thoughts about the question you have been asked.\n",
        "Use Action to run one of the actions available to you - then return PAUSE.\n",
        "Observation will be the result of running those actions.\n",
        "\n",
        "Your available actions are:\n",
        "\n",
        "calculate:\n",
        "e.g. calculate: 4 * 7 / 3\n",
        "Runs a calculation and returns the number - uses Python so be sure to use floating point syntax if necessary\n",
        "\n",
        "get_population:\n",
        "e.g. get_population: Goiania\n",
        "returns population of Goiania\n",
        "\n",
        "Example session:\n",
        "\n",
        "Question: What is the population of Goiânia times 2?\n",
        "Thought: I need to find the population of Goiania\n",
        "Action: get_population: Goiania\n",
        "PAUSE\n",
        "\n",
        "You will be called again with this:\n",
        "\n",
        "Observation: 1555626\n",
        "\n",
        "Thought: I need to multiply this by 2\n",
        "Action: calculate: 1555626 * 2\n",
        "PAUSE\n",
        "\n",
        "You will be called again with this:\n",
        "\n",
        "Observation: 3111252\n",
        "\n",
        "If you have the answer, output it as the Answer.\n",
        "\n",
        "Answer: The population of Goiânia times 2 is 3111252\n",
        "\n",
        "Now it's your turn:\n",
        "\"\"\".strip()\n",
        "\n",
        "# Esse o prompt do sistema que vai fazer o agente entender como ele deve se comportar para seguir o loop"
      ],
      "metadata": {
        "id": "XH7YuwbpB7iw"
      },
      "execution_count": 5,
      "outputs": []
    },
    {
      "cell_type": "code",
      "source": [
        "# Ferramentas\n",
        "def calculate(operation):\n",
        "  return eval(operation) # Ferramenta padrão de calculadora\n",
        "\n",
        "def get_population(city) -> float: # Ferramenta que serve como uma \"pseudo-pesquisa\" para que o agente possa realizar o que lhe foi pedido\n",
        "  match city.lower():\n",
        "    case \"goiania\":\n",
        "      return 1555626\n",
        "    case \"sao paulo\":\n",
        "      return 11895578\n",
        "    case \"rio de janeiro\":\n",
        "      return 6211223\n",
        "    case \"brasilia\":\n",
        "      return 2982818"
      ],
      "metadata": {
        "id": "KFnFMIszD-OC"
      },
      "execution_count": 7,
      "outputs": []
    },
    {
      "cell_type": "code",
      "source": [
        "ibge = Agent(client, system_prompt) # Instanciando o agente com o nome IBGE porque ele é um especialista em populações de cidades"
      ],
      "metadata": {
        "id": "wkh8AzWKFLUG"
      },
      "execution_count": 8,
      "outputs": []
    },
    {
      "cell_type": "markdown",
      "source": [
        "**TESTANDO O AGENTE MANUALMENTE**"
      ],
      "metadata": {
        "id": "dXcW5vtyNKCJ"
      }
    },
    {
      "cell_type": "code",
      "source": [
        "result = ibge(\"What is the sum of the population of Sao Paulo and Rio de Janeiro times 2?\")\n",
        "print(result)"
      ],
      "metadata": {
        "colab": {
          "base_uri": "https://localhost:8080/"
        },
        "id": "l3VDuv9zFT1f",
        "outputId": "041f661c-0c4d-454f-f65e-e5f73e413af9"
      },
      "execution_count": 9,
      "outputs": [
        {
          "output_type": "stream",
          "name": "stdout",
          "text": [
            "Thought: I need to find the population of Sao Paulo and Rio de Janeiro.\n"
          ]
        }
      ]
    },
    {
      "cell_type": "code",
      "source": [
        "ibge.messages"
      ],
      "metadata": {
        "colab": {
          "base_uri": "https://localhost:8080/"
        },
        "id": "qGwhHbZDLJI6",
        "outputId": "6d6d15ab-113b-4c8d-b3e9-300895837f3e"
      },
      "execution_count": 10,
      "outputs": [
        {
          "output_type": "execute_result",
          "data": {
            "text/plain": [
              "[{'role': 'system',\n",
              "  'content': \"You run in a loop of Thought, Action, PAUSE, Observation.\\nAt the end of the loop you output an Answer\\nUse Thought to describe your thoughts about the question you have been asked.\\nUse Action to run one of the actions available to you - then return PAUSE.\\nObservation will be the result of running those actions.\\n\\nYour available actions are:\\n\\ncalculate:\\ne.g. calculate: 4 * 7 / 3\\nRuns a calculation and returns the number - uses Python so be sure to use floating point syntax if necessary\\n\\nget_population:\\ne.g. get_population: Goiania\\nreturns population of Goiania\\n\\nExample session:\\n\\nQuestion: What is the population of Goiânia times 2?\\nThought: I need to find the population of Goiania\\nAction: get_population: Goiania\\nPAUSE\\n\\nYou will be called again with this:\\n\\nObservation: 1555626\\n\\nThought: I need to multiply this by 2\\nAction: calculate: 1555626 * 2\\nPAUSE\\n\\nYou will be called again with this:\\n\\nObservation: 3111252\\n\\nIf you have the answer, output it as the Answer.\\n\\nAnswer: The population of Goiânia times 2 is 3111252\\n\\nNow it's your turn:\"},\n",
              " {'role': 'user',\n",
              "  'content': 'What is the sum of the population of Sao Paulo and Rio de Janeiro times 2?'},\n",
              " {'role': 'assistant',\n",
              "  'content': 'Thought: I need to find the population of Sao Paulo and Rio de Janeiro.'}]"
            ]
          },
          "metadata": {},
          "execution_count": 10
        }
      ]
    },
    {
      "cell_type": "code",
      "source": [
        "result = ibge()\n",
        "print(result)"
      ],
      "metadata": {
        "colab": {
          "base_uri": "https://localhost:8080/"
        },
        "id": "NPBdrfAWLNWC",
        "outputId": "2d54a497-4edc-49cd-ddde-617f82189e84"
      },
      "execution_count": 12,
      "outputs": [
        {
          "output_type": "stream",
          "name": "stdout",
          "text": [
            "Action: get_population: Sao Paulo\n",
            "PAUSE\n"
          ]
        }
      ]
    },
    {
      "cell_type": "code",
      "source": [
        "observation = get_population(\"sao paulo\")\n",
        "print (observation)"
      ],
      "metadata": {
        "colab": {
          "base_uri": "https://localhost:8080/"
        },
        "id": "LuURUa1_LZB8",
        "outputId": "bfae981c-6117-4399-ae85-83217133e424"
      },
      "execution_count": 13,
      "outputs": [
        {
          "output_type": "stream",
          "name": "stdout",
          "text": [
            "11895578\n"
          ]
        }
      ]
    },
    {
      "cell_type": "code",
      "source": [
        "next_prompt = f\"Observation: {observation}\"\n",
        "result = ibge(next_prompt)\n",
        "print(result)"
      ],
      "metadata": {
        "colab": {
          "base_uri": "https://localhost:8080/"
        },
        "id": "FWYbLL0YLjH8",
        "outputId": "572e260d-cafc-4c98-a158-8b2ac6765d66"
      },
      "execution_count": 14,
      "outputs": [
        {
          "output_type": "stream",
          "name": "stdout",
          "text": [
            "Thought: Now I have the population of Sao Paulo, next I need to find the population of Rio de Janeiro.\n"
          ]
        }
      ]
    },
    {
      "cell_type": "code",
      "source": [
        "ibge.messages"
      ],
      "metadata": {
        "colab": {
          "base_uri": "https://localhost:8080/"
        },
        "id": "5_0zhMLtMC7d",
        "outputId": "d05b55b9-4e1d-4c86-93c9-afbc7a0ee57c"
      },
      "execution_count": 15,
      "outputs": [
        {
          "output_type": "execute_result",
          "data": {
            "text/plain": [
              "[{'role': 'system',\n",
              "  'content': \"You run in a loop of Thought, Action, PAUSE, Observation.\\nAt the end of the loop you output an Answer\\nUse Thought to describe your thoughts about the question you have been asked.\\nUse Action to run one of the actions available to you - then return PAUSE.\\nObservation will be the result of running those actions.\\n\\nYour available actions are:\\n\\ncalculate:\\ne.g. calculate: 4 * 7 / 3\\nRuns a calculation and returns the number - uses Python so be sure to use floating point syntax if necessary\\n\\nget_population:\\ne.g. get_population: Goiania\\nreturns population of Goiania\\n\\nExample session:\\n\\nQuestion: What is the population of Goiânia times 2?\\nThought: I need to find the population of Goiania\\nAction: get_population: Goiania\\nPAUSE\\n\\nYou will be called again with this:\\n\\nObservation: 1555626\\n\\nThought: I need to multiply this by 2\\nAction: calculate: 1555626 * 2\\nPAUSE\\n\\nYou will be called again with this:\\n\\nObservation: 3111252\\n\\nIf you have the answer, output it as the Answer.\\n\\nAnswer: The population of Goiânia times 2 is 3111252\\n\\nNow it's your turn:\"},\n",
              " {'role': 'user',\n",
              "  'content': 'What is the sum of the population of Sao Paulo and Rio de Janeiro times 2?'},\n",
              " {'role': 'assistant',\n",
              "  'content': 'Thought: I need to find the population of Sao Paulo and Rio de Janeiro.'},\n",
              " {'role': 'assistant', 'content': ''},\n",
              " {'role': 'assistant', 'content': 'Action: get_population: Sao Paulo\\nPAUSE'},\n",
              " {'role': 'user', 'content': 'Observation: 11895578'},\n",
              " {'role': 'assistant',\n",
              "  'content': 'Thought: Now I have the population of Sao Paulo, next I need to find the population of Rio de Janeiro.'}]"
            ]
          },
          "metadata": {},
          "execution_count": 15
        }
      ]
    },
    {
      "cell_type": "code",
      "source": [
        "result = ibge()\n",
        "print(result)"
      ],
      "metadata": {
        "colab": {
          "base_uri": "https://localhost:8080/"
        },
        "id": "sxASUXrMMIA2",
        "outputId": "34e03ead-6824-40fd-e2fb-6b4980d71f42"
      },
      "execution_count": 17,
      "outputs": [
        {
          "output_type": "stream",
          "name": "stdout",
          "text": [
            "Action: get_population: Rio de Janeiro\n",
            "PAUSE\n"
          ]
        }
      ]
    },
    {
      "cell_type": "code",
      "source": [
        "observation = get_population(\"rio de janeiro\")\n",
        "print (observation)"
      ],
      "metadata": {
        "colab": {
          "base_uri": "https://localhost:8080/"
        },
        "id": "tjW9la73MPiP",
        "outputId": "35b61d72-fe03-4754-f1f0-45c8a0836bbd"
      },
      "execution_count": 18,
      "outputs": [
        {
          "output_type": "stream",
          "name": "stdout",
          "text": [
            "6211223\n"
          ]
        }
      ]
    },
    {
      "cell_type": "code",
      "source": [
        "next_prompt = f\"Observation: {observation}\"\n",
        "result = ibge(next_prompt)\n",
        "print(result)"
      ],
      "metadata": {
        "colab": {
          "base_uri": "https://localhost:8080/"
        },
        "id": "vwK3WCMNMTnw",
        "outputId": "78088369-c7d0-4d8f-ff1d-3944574df060"
      },
      "execution_count": 19,
      "outputs": [
        {
          "output_type": "stream",
          "name": "stdout",
          "text": [
            "Thought: Now I have the population of Rio de Janeiro, next I need to add them together and multiply by 2.\n"
          ]
        }
      ]
    },
    {
      "cell_type": "code",
      "source": [
        "ibge.messages"
      ],
      "metadata": {
        "colab": {
          "base_uri": "https://localhost:8080/"
        },
        "id": "HKRGsK1EMWF8",
        "outputId": "23bafde9-6fd2-4581-b92a-eeb8a946e722"
      },
      "execution_count": 20,
      "outputs": [
        {
          "output_type": "execute_result",
          "data": {
            "text/plain": [
              "[{'role': 'system',\n",
              "  'content': \"You run in a loop of Thought, Action, PAUSE, Observation.\\nAt the end of the loop you output an Answer\\nUse Thought to describe your thoughts about the question you have been asked.\\nUse Action to run one of the actions available to you - then return PAUSE.\\nObservation will be the result of running those actions.\\n\\nYour available actions are:\\n\\ncalculate:\\ne.g. calculate: 4 * 7 / 3\\nRuns a calculation and returns the number - uses Python so be sure to use floating point syntax if necessary\\n\\nget_population:\\ne.g. get_population: Goiania\\nreturns population of Goiania\\n\\nExample session:\\n\\nQuestion: What is the population of Goiânia times 2?\\nThought: I need to find the population of Goiania\\nAction: get_population: Goiania\\nPAUSE\\n\\nYou will be called again with this:\\n\\nObservation: 1555626\\n\\nThought: I need to multiply this by 2\\nAction: calculate: 1555626 * 2\\nPAUSE\\n\\nYou will be called again with this:\\n\\nObservation: 3111252\\n\\nIf you have the answer, output it as the Answer.\\n\\nAnswer: The population of Goiânia times 2 is 3111252\\n\\nNow it's your turn:\"},\n",
              " {'role': 'user',\n",
              "  'content': 'What is the sum of the population of Sao Paulo and Rio de Janeiro times 2?'},\n",
              " {'role': 'assistant',\n",
              "  'content': 'Thought: I need to find the population of Sao Paulo and Rio de Janeiro.'},\n",
              " {'role': 'assistant', 'content': ''},\n",
              " {'role': 'assistant', 'content': 'Action: get_population: Sao Paulo\\nPAUSE'},\n",
              " {'role': 'user', 'content': 'Observation: 11895578'},\n",
              " {'role': 'assistant',\n",
              "  'content': 'Thought: Now I have the population of Sao Paulo, next I need to find the population of Rio de Janeiro.'},\n",
              " {'role': 'assistant', 'content': ''},\n",
              " {'role': 'assistant',\n",
              "  'content': 'Action: get_population: Rio de Janeiro\\nPAUSE'},\n",
              " {'role': 'user', 'content': 'Observation: 6211223'},\n",
              " {'role': 'assistant',\n",
              "  'content': 'Thought: Now I have the population of Rio de Janeiro, next I need to add them together and multiply by 2.'}]"
            ]
          },
          "metadata": {},
          "execution_count": 20
        }
      ]
    },
    {
      "cell_type": "code",
      "source": [
        "result = ibge()\n",
        "print(result)"
      ],
      "metadata": {
        "colab": {
          "base_uri": "https://localhost:8080/"
        },
        "id": "fOvQLMTXMv3r",
        "outputId": "3d1e15bb-ee9a-4cb5-b703-09cd1a688d7c"
      },
      "execution_count": 22,
      "outputs": [
        {
          "output_type": "stream",
          "name": "stdout",
          "text": [
            "Action: calculate: 11895578 + 6211223\n",
            "PAUSE\n"
          ]
        }
      ]
    },
    {
      "cell_type": "code",
      "source": [
        "observation = calculate(\"(11895578 + 6211223)\")\n",
        "print(observation)"
      ],
      "metadata": {
        "colab": {
          "base_uri": "https://localhost:8080/"
        },
        "id": "x0bSd6kdMmrR",
        "outputId": "ffff39bb-c7a6-4f3e-e376-e6ffb63ea320"
      },
      "execution_count": 23,
      "outputs": [
        {
          "output_type": "stream",
          "name": "stdout",
          "text": [
            "18106801\n"
          ]
        }
      ]
    },
    {
      "cell_type": "code",
      "source": [
        "next_prompt = f\"Observation: {observation}\"\n",
        "result = ibge(next_prompt)\n",
        "print(result)"
      ],
      "metadata": {
        "colab": {
          "base_uri": "https://localhost:8080/"
        },
        "id": "9NzbY1hiM8JD",
        "outputId": "5bb00fdf-4a8b-4b44-caa2-65f0c183842b"
      },
      "execution_count": 24,
      "outputs": [
        {
          "output_type": "stream",
          "name": "stdout",
          "text": [
            "Thought: Now I have the sum of the populations, next I need to multiply it by 2.\n"
          ]
        }
      ]
    },
    {
      "cell_type": "code",
      "source": [
        "result = ibge()\n",
        "print(result)"
      ],
      "metadata": {
        "colab": {
          "base_uri": "https://localhost:8080/"
        },
        "id": "DOLHUNYzNhPB",
        "outputId": "af0660fa-e3f1-4b1d-98e9-bcffc09dc2f1"
      },
      "execution_count": 26,
      "outputs": [
        {
          "output_type": "stream",
          "name": "stdout",
          "text": [
            "Action: calculate: 18106801 * 2\n",
            "PAUSE\n"
          ]
        }
      ]
    },
    {
      "cell_type": "code",
      "source": [
        "observation = calculate(\"18106801 * 2\")\n",
        "print(observation)"
      ],
      "metadata": {
        "colab": {
          "base_uri": "https://localhost:8080/"
        },
        "id": "C6em0a89NlTS",
        "outputId": "574404f7-7194-434b-c94e-a130250852ae"
      },
      "execution_count": 27,
      "outputs": [
        {
          "output_type": "stream",
          "name": "stdout",
          "text": [
            "36213602\n"
          ]
        }
      ]
    },
    {
      "cell_type": "code",
      "source": [
        "next_prompt = f\"Observation: {observation}\"\n",
        "result = ibge(next_prompt)\n",
        "print(result)"
      ],
      "metadata": {
        "colab": {
          "base_uri": "https://localhost:8080/"
        },
        "id": "JfOZpCXWNsA6",
        "outputId": "2e8deaea-7124-4207-cbb0-59a9a2f9fd50"
      },
      "execution_count": 28,
      "outputs": [
        {
          "output_type": "stream",
          "name": "stdout",
          "text": [
            "Answer: The sum of the population of Sao Paulo and Rio de Janeiro times 2 is 36213602\n"
          ]
        }
      ]
    },
    {
      "cell_type": "code",
      "source": [
        "ibge.messages"
      ],
      "metadata": {
        "colab": {
          "base_uri": "https://localhost:8080/"
        },
        "id": "0Rqgv_j0NCRU",
        "outputId": "31eb1f8b-ecbb-48f0-c351-3b2de642f84e"
      },
      "execution_count": 29,
      "outputs": [
        {
          "output_type": "execute_result",
          "data": {
            "text/plain": [
              "[{'role': 'system',\n",
              "  'content': \"You run in a loop of Thought, Action, PAUSE, Observation.\\nAt the end of the loop you output an Answer\\nUse Thought to describe your thoughts about the question you have been asked.\\nUse Action to run one of the actions available to you - then return PAUSE.\\nObservation will be the result of running those actions.\\n\\nYour available actions are:\\n\\ncalculate:\\ne.g. calculate: 4 * 7 / 3\\nRuns a calculation and returns the number - uses Python so be sure to use floating point syntax if necessary\\n\\nget_population:\\ne.g. get_population: Goiania\\nreturns population of Goiania\\n\\nExample session:\\n\\nQuestion: What is the population of Goiânia times 2?\\nThought: I need to find the population of Goiania\\nAction: get_population: Goiania\\nPAUSE\\n\\nYou will be called again with this:\\n\\nObservation: 1555626\\n\\nThought: I need to multiply this by 2\\nAction: calculate: 1555626 * 2\\nPAUSE\\n\\nYou will be called again with this:\\n\\nObservation: 3111252\\n\\nIf you have the answer, output it as the Answer.\\n\\nAnswer: The population of Goiânia times 2 is 3111252\\n\\nNow it's your turn:\"},\n",
              " {'role': 'user',\n",
              "  'content': 'What is the sum of the population of Sao Paulo and Rio de Janeiro times 2?'},\n",
              " {'role': 'assistant',\n",
              "  'content': 'Thought: I need to find the population of Sao Paulo and Rio de Janeiro.'},\n",
              " {'role': 'assistant', 'content': ''},\n",
              " {'role': 'assistant', 'content': 'Action: get_population: Sao Paulo\\nPAUSE'},\n",
              " {'role': 'user', 'content': 'Observation: 11895578'},\n",
              " {'role': 'assistant',\n",
              "  'content': 'Thought: Now I have the population of Sao Paulo, next I need to find the population of Rio de Janeiro.'},\n",
              " {'role': 'assistant', 'content': ''},\n",
              " {'role': 'assistant',\n",
              "  'content': 'Action: get_population: Rio de Janeiro\\nPAUSE'},\n",
              " {'role': 'user', 'content': 'Observation: 6211223'},\n",
              " {'role': 'assistant',\n",
              "  'content': 'Thought: Now I have the population of Rio de Janeiro, next I need to add them together and multiply by 2.'},\n",
              " {'role': 'assistant', 'content': ''},\n",
              " {'role': 'assistant',\n",
              "  'content': 'Action: calculate: 11895578 + 6211223\\nPAUSE'},\n",
              " {'role': 'user', 'content': 'Observation: 18106801'},\n",
              " {'role': 'assistant',\n",
              "  'content': 'Thought: Now I have the sum of the populations, next I need to multiply it by 2.'},\n",
              " {'role': 'assistant', 'content': ''},\n",
              " {'role': 'assistant', 'content': 'Action: calculate: 18106801 * 2\\nPAUSE'},\n",
              " {'role': 'user', 'content': 'Observation: 36213602'},\n",
              " {'role': 'assistant',\n",
              "  'content': 'Answer: The sum of the population of Sao Paulo and Rio de Janeiro times 2 is 36213602'}]"
            ]
          },
          "metadata": {},
          "execution_count": 29
        }
      ]
    },
    {
      "cell_type": "markdown",
      "source": [
        "**CRIANDO O LOOP PARA O AGENTE FUNCIONAR APENAS COM O PROMPT**"
      ],
      "metadata": {
        "id": "fo1Yw2z-iSCU"
      }
    },
    {
      "cell_type": "code",
      "source": [
        "import re # Criando o loop do agente\n",
        "\n",
        "def agent_loop(max_iterations, system, query):\n",
        "  agent = Agent(client, system_prompt) # Inicilizando o agente\n",
        "  tools = ['calculate', 'get_population'] # Inicilizando as ferramentas que temos\n",
        "  next_prompt = query # Definimos o primeiro prompt como pedido que vamos mandar para o loop do agente\n",
        "  i = 0\n",
        "  while i < max_iterations: # Iniciando o loop\n",
        "    i += 1\n",
        "    result = agent(next_prompt) # Chamando o agente\n",
        "    print(result) # Printando o resultado para análise\n",
        "\n",
        "    if \"PAUSE\" in result and \"Action\" in result: # Se o resultado tiver PAUSE e AÇÃO\n",
        "      action = re.findall(r\"Action: ([a-z_]+): (.+)\", result, re.IGNORECASE) # Nós encontramos o nome da ação e os parâmetros com essa linha de código\n",
        "      chosen_tool = action[0][0] # Organizando a ferramenta selecionada\n",
        "      arg = action[0][1] # Organizado o parâmetro encontrado\n",
        "\n",
        "      if chosen_tool in tools: # Se a ferramenta estiver entre as que nós temos\n",
        "        result_tool = eval(f\"{chosen_tool}('{arg}')\") # Usamos e ferramenta e temos o resultado dela\n",
        "        next_prompt = f\"Observation: {result_tool}\" # Que é analisado nessa observação\n",
        "\n",
        "      else:\n",
        "        next_prompt = \"Observation: Tool not found\" # Se não tivermos a ferramenta vamos dizer que não encontramos a ferramenta para que o sistema procure outra correta\n",
        "\n",
        "      print(next_prompt) # Printamos para sabermos o que está acontecendo\n",
        "      continue # Continua a fazer mais iterações\n",
        "\n",
        "    if \"Answer\" in result: # Se o agente tiver \"resposta\" no seu resultado nós paramos o loop\n",
        "      break\n"
      ],
      "metadata": {
        "id": "BqWj7cSwPby_"
      },
      "execution_count": 30,
      "outputs": []
    },
    {
      "cell_type": "code",
      "source": [
        "agent_loop(max_iterations=50, system=system_prompt, query=\"What is the sum of the population of Sao Paulo, Goiania and Rio de Janeiro and all of it times 5?\") # Implementando o loop do agente criado"
      ],
      "metadata": {
        "colab": {
          "base_uri": "https://localhost:8080/"
        },
        "id": "sIcvOKF8Q7eK",
        "outputId": "dc99fa5c-eac1-4c55-a296-b9a07fcd4b0e"
      },
      "execution_count": 31,
      "outputs": [
        {
          "output_type": "stream",
          "name": "stdout",
          "text": [
            "Thought: I need to find the population of Sao Paulo, Goiania, and Rio de Janeiro, then add them up and finally multiply the sum by 5.\n",
            "\n",
            "Action: get_population: Sao Paulo\n",
            "PAUSE\n",
            "Observation: 11895578\n",
            "Thought: I have the population of Sao Paulo, now I need to get the populations of Goiania and Rio de Janeiro.\n",
            "\n",
            "Action: get_population: Goiania\n",
            "PAUSE\n",
            "Observation: 1555626\n",
            "Thought: I have the populations of Sao Paulo and Goiania, now I need to get the population of Rio de Janeiro.\n",
            "\n",
            "Action: get_population: Rio de Janeiro\n",
            "PAUSE\n",
            "Observation: 6211223\n",
            "Thought: I have the populations of Sao Paulo, Goiania, and Rio de Janeiro, now I need to add them up.\n",
            "\n",
            "Action: calculate: 11895578 + 1555626 + 6211223\n",
            "PAUSE\n",
            "Observation: 19662427\n",
            "Thought: I have the sum of the populations, now I need to multiply it by 5.\n",
            "\n",
            "Action: calculate: 19662427 * 5\n",
            "PAUSE\n",
            "Observation: 98312135\n",
            "Thought: I have the result of multiplying the sum by 5, which is the final answer.\n",
            "\n",
            "Answer: The sum of the population of Sao Paulo, Goiania, and Rio de Janeiro and all of it times 5 is 98312135.\n"
          ]
        }
      ]
    }
  ]
}